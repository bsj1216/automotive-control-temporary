{
 "cells": [
  {
   "cell_type": "markdown",
   "metadata": {},
   "source": [
    "# Intersection\n",
    "\n",
    "In this notebook we demonstrate how to define a T-shape intersection with AutomotiveDrivingModels.  You will also learn how to define your own custom action type and driver model type.\n"
   ]
  },
  {
   "cell_type": "code",
   "execution_count": 1,
   "metadata": {},
   "outputs": [
    {
     "name": "stderr",
     "output_type": "stream",
     "text": [
      "┌ Info: Recompiling stale cache file C:\\Users\\Maxime\\.julia\\compiled\\v1.1\\AutomotiveDrivingModels\\ZEfHM.ji for AutomotiveDrivingModels [99497e54-f3d6-53d3-a3a9-fa9315a7f1ba]\n",
      "└ @ Base loading.jl:1184\n",
      "┌ Info: Precompiling AutoViz [82aa6e0c-a491-5edf-8d4b-c16b98e4ea17]\n",
      "└ @ Base loading.jl:1186\n",
      "┌ Warning: Module AutomotiveDrivingModels with build ID 614703232384699 is missing from the cache.\n",
      "│ This may mean AutomotiveDrivingModels [99497e54-f3d6-53d3-a3a9-fa9315a7f1ba] does not support precompilation but is imported by a module that does.\n",
      "└ @ Base loading.jl:947\n",
      "┌ Info: Precompiling Cairo [159f3aea-2a34-519c-b102-8c37f9878175]\n",
      "└ @ Base loading.jl:1186\n",
      "┌ Warning: The call to compilecache failed to create a usable precompiled cache file for Cairo [159f3aea-2a34-519c-b102-8c37f9878175]\n",
      "│   exception = ErrorException(\"Cache file \\\"C:\\\\Users\\\\Maxime\\\\.julia\\\\compiled\\\\v1.1\\\\Cairo\\\\l6vnT.ji\\\" not found.\\n\")\n",
      "└ @ Base loading.jl:969\n"
     ]
    }
   ],
   "source": [
    "using AutomotiveDrivingModels\n",
    "\n",
    "# All the functions related to visualization\n",
    "using AutoViz"
   ]
  },
  {
   "cell_type": "markdown",
   "metadata": {},
   "source": [
    "## Generate a T-Shape intersection"
   ]
  },
  {
   "cell_type": "markdown",
   "metadata": {},
   "source": [
    "In order to generate the road network, one first initializes a Roadway object."
   ]
  },
  {
   "cell_type": "code",
   "execution_count": 2,
   "metadata": {},
   "outputs": [],
   "source": [
    "roadway = Roadway();"
   ]
  },
  {
   "cell_type": "code",
   "execution_count": 3,
   "metadata": {},
   "outputs": [
    {
     "data": {
      "text/plain": [
       "3-element VecSE2{Float64}:\n",
       " 13.0              \n",
       "  3.0              \n",
       " -3.141592653589793"
      ]
     },
     "execution_count": 3,
     "metadata": {},
     "output_type": "execute_result"
    }
   ],
   "source": [
    "# Define coordinates of the entry and exit points to the intersection\n",
    "r = 5.0 # turn radius\n",
    "A = VecSE2(0.0,DEFAULT_LANE_WIDTH,-π)\n",
    "B = VecSE2(0.0,0.0,0.0)\n",
    "C = VecSE2(r,-r,-π/2)\n",
    "D = VecSE2(r+DEFAULT_LANE_WIDTH,-r,π/2)\n",
    "E = VecSE2(2r+DEFAULT_LANE_WIDTH,0,0)\n",
    "F = VecSE2(2r+DEFAULT_LANE_WIDTH,DEFAULT_LANE_WIDTH,-π)"
   ]
  },
  {
   "cell_type": "markdown",
   "metadata": {},
   "source": [
    "The next step consists in appending all the lanes to the road network. We can define a helper function to add a new lane to the roadway."
   ]
  },
  {
   "cell_type": "code",
   "execution_count": 4,
   "metadata": {},
   "outputs": [
    {
     "data": {
      "text/plain": [
       "append_to_curve! (generic function with 1 method)"
      ]
     },
     "execution_count": 4,
     "metadata": {},
     "output_type": "execute_result"
    }
   ],
   "source": [
    "function append_to_curve!(target::Curve, newstuff::Curve)\n",
    "    s_end = target[end].s\n",
    "    for c in newstuff\n",
    "        push!(target, CurvePt(c.pos, c.s+s_end, c.k, c.kd))\n",
    "    end\n",
    "    return target\n",
    "end"
   ]
  },
  {
   "cell_type": "markdown",
   "metadata": {},
   "source": [
    "Example of a lane that consists in 3 road segments, a straight curve (from the left to the center), a turning part (right turn) and a final straight curve. You can visualize the lane that has been added to the roadway"
   ]
  },
  {
   "cell_type": "code",
   "execution_count": 5,
   "metadata": {},
   "outputs": [
    {
     "data": {
      "image/png": "[encoded data removed]",
      "text/plain": [
       "Cairo.CairoSurfaceBase{UInt32}(Ptr{Nothing} @0x000000001fba8390, 1000.0, 600.0)"
      ]
     },
     "execution_count": 5,
     "metadata": {},
     "output_type": "execute_result"
    }
   ],
   "source": [
    "# Append right turn coming from the left\n",
    "curve = gen_straight_curve(convert(VecE2, B+VecE2(-100,0)), convert(VecE2, B), 2)\n",
    "append_to_curve!(curve, gen_bezier_curve(B, C, 0.6r, 0.6r, 51)[2:end])\n",
    "append_to_curve!(curve, gen_straight_curve(convert(VecE2, C), convert(VecE2, C+VecE2(0,-50.0)), 2))\n",
    "lane = Lane(LaneTag(length(roadway.segments)+1,1), curve)\n",
    "push!(roadway.segments, RoadSegment(lane.tag.segment, [lane]))\n",
    "\n",
    "#visualize first lane\n",
    "cam = FitToContentCamera(0.0)\n",
    "render(roadway, cam=cam)"
   ]
  },
  {
   "cell_type": "markdown",
   "metadata": {},
   "source": [
    "Let's repeat the process and complete the T-shape intersection"
   ]
  },
  {
   "cell_type": "code",
   "execution_count": 6,
   "metadata": {},
   "outputs": [
    {
     "data": {
      "image/png": "[encoded data removed]",
      "text/plain": [
       "Cairo.CairoSurfaceBase{UInt32}(Ptr{Nothing} @0x000000001fba9970, 1000.0, 600.0)"
      ]
     },
     "execution_count": 6,
     "metadata": {},
     "output_type": "execute_result"
    }
   ],
   "source": [
    "# Append straight left\n",
    "curve = gen_straight_curve(convert(VecE2, B+VecE2(-100,0)), convert(VecE2, B), 2)\n",
    "append_to_curve!(curve, gen_straight_curve(convert(VecE2, B), convert(VecE2, E), 2)[2:end])\n",
    "append_to_curve!(curve, gen_straight_curve(convert(VecE2, E), convert(VecE2, E+VecE2(50,0)), 2))\n",
    "lane = Lane(LaneTag(length(roadway.segments)+1,1), curve)\n",
    "push!(roadway.segments, RoadSegment(lane.tag.segment, [lane]))\n",
    "\n",
    "# Append straight right\n",
    "curve = gen_straight_curve(convert(VecE2, F+VecE2(50,0)), convert(VecE2, F), 2)\n",
    "append_to_curve!(curve, gen_straight_curve(convert(VecE2, F), convert(VecE2, A), 2)[2:end])\n",
    "append_to_curve!(curve, gen_straight_curve(convert(VecE2, A), convert(VecE2, A+VecE2(-100,0)), 2))\n",
    "lane = Lane(LaneTag(length(roadway.segments)+1,1), curve)\n",
    "push!(roadway.segments, RoadSegment(lane.tag.segment, [lane]))\n",
    "\n",
    "# Append left turn coming from the right\n",
    "curve = gen_straight_curve(convert(VecE2, F+VecE2(50,0)), convert(VecE2, F), 2)\n",
    "append_to_curve!(curve, gen_bezier_curve(F, C, 0.9r, 0.9r, 51)[2:end])\n",
    "append_to_curve!(curve, gen_straight_curve(convert(VecE2, C), convert(VecE2, C+VecE2(0,-50)), 2))\n",
    "lane = Lane(LaneTag(length(roadway.segments)+1,1), curve)\n",
    "push!(roadway.segments, RoadSegment(lane.tag.segment, [lane]))\n",
    "\n",
    "# Append right turn coming from below\n",
    "curve = gen_straight_curve(convert(VecE2, D+VecE2(0,-50)), convert(VecE2, D), 2)\n",
    "append_to_curve!(curve, gen_bezier_curve(D, E, 0.6r, 0.6r, 51)[2:end])\n",
    "append_to_curve!(curve, gen_straight_curve(convert(VecE2, E), convert(VecE2, E+VecE2(50,0)), 2))\n",
    "lane = Lane(LaneTag(length(roadway.segments)+1,1), curve)\n",
    "push!(roadway.segments, RoadSegment(lane.tag.segment, [lane]))\n",
    "\n",
    "# Append left turn coming from below\n",
    "curve = gen_straight_curve(convert(VecE2, D+VecE2(0,-50)), convert(VecE2, D), 2)\n",
    "append_to_curve!(curve, gen_bezier_curve(D, A, 0.9r, 0.9r, 51)[2:end])\n",
    "append_to_curve!(curve, gen_straight_curve(convert(VecE2, A), convert(VecE2, A+VecE2(-100,0)), 2))\n",
    "lane = Lane(LaneTag(length(roadway.segments)+1,1), curve)\n",
    "push!(roadway.segments, RoadSegment(lane.tag.segment, [lane]))\n",
    "\n",
    "cam = FitToContentCamera(0.0)\n",
    "render(roadway, cam=cam)"
   ]
  },
  {
   "cell_type": "markdown",
   "metadata": {},
   "source": [
    "We can identify each lane thanks to the following user-defined functions. We define a ```LaneOverlay``` object that indicate the lane to highlight. One could implement any custom type to display other information on the lane. We then add a new method to the  ```render!``` function that execute the specific action (coloring in blue). Look at Autoviz.jl for more detail on the ```render!``` function.\n",
    "\n",
    "Use the slider to highlight each lane. The number corresponds to a road segment.\n",
    "\n",
    "**Note :** In order to render the intersection, one must first initialize a ```Scene``` object."
   ]
  },
  {
   "cell_type": "code",
   "execution_count": 7,
   "metadata": {},
   "outputs": [
    {
     "name": "stderr",
     "output_type": "stream",
     "text": [
      "┌ Info: Precompiling Interact [c601a237-2ae4-5e1e-952c-7a85b0c7eef1]\n",
      "└ @ Base loading.jl:1186\n",
      "┌ Warning: The call to compilecache failed to create a usable precompiled cache file for InteractBase [d3863d7c-f0c8-5437-a7b4-3ae773c01009]\n",
      "│   exception = Required dependency Knockout [bcebb21b-c2e3-54f8-a781-646b90f6d2cc] failed to load from a cache file.\n",
      "└ @ Base loading.jl:969\n"
     ]
    },
    {
     "data": {
      "text/html": [
       "    <script class='js-collapse-script'>\n",
       "        var curMatch =\n",
       "            window.location.href\n",
       "            .match(/(.*?)\\/notebooks\\/.*\\.ipynb/);\n",
       "\n",
       "        curMatch = curMatch ||\n",
       "            window.location.href\n",
       "            .match(/(.*?)\\/apps\\/.*\\.ipynb/);\n",
       "\n",
       "        if ( curMatch ) {\n",
       "            $('head').append('<base href=\"' + curMatch[1] + '/\">');\n",
       "        }\n",
       "    </script>\n"
      ],
      "text/plain": [
       "HTML{String}(\"    <script class='js-collapse-script'>\\n        var curMatch =\\n            window.location.href\\n            .match(/(.*?)\\\\/notebooks\\\\/.*\\\\.ipynb/);\\n\\n        curMatch = curMatch ||\\n            window.location.href\\n            .match(/(.*?)\\\\/apps\\\\/.*\\\\.ipynb/);\\n\\n        if ( curMatch ) {\\n            \\$('head').append('<base href=\\\"' + curMatch[1] + '/\\\">');\\n        }\\n    </script>\\n\")"
      ]
     },
     "metadata": {},
     "output_type": "display_data"
    },
    {
     "data": {
      "text/html": [
       "<script class='js-collapse-script' src='/assetserver/468e3c5cbff4bba2f7f3ca28e0afa7cac8df1be0-assets/webio/dist/bundle.js'></script>"
      ],
      "text/plain": [
       "HTML{String}(\"<script class='js-collapse-script' src='/assetserver/468e3c5cbff4bba2f7f3ca28e0afa7cac8df1be0-assets/webio/dist/bundle.js'></script>\")"
      ]
     },
     "metadata": {},
     "output_type": "display_data"
    },
    {
     "data": {
      "text/html": [
       "<script class='js-collapse-script' src='/assetserver/468e3c5cbff4bba2f7f3ca28e0afa7cac8df1be0-assets/providers/ijulia_setup.js'></script>"
      ],
      "text/plain": [
       "HTML{String}(\"<script class='js-collapse-script' src='/assetserver/468e3c5cbff4bba2f7f3ca28e0afa7cac8df1be0-assets/providers/ijulia_setup.js'></script>\")"
      ]
     },
     "metadata": {},
     "output_type": "display_data"
    },
    {
     "data": {
      "text/html": [
       "  <script class='js-collapse-script'>\n",
       "    $('.js-collapse-script').parent('.output_subarea').css('padding', '0');\n",
       "  </script>\n"
      ],
      "text/plain": [
       "HTML{String}(\"  <script class='js-collapse-script'>\\n    \\$('.js-collapse-script').parent('.output_subarea').css('padding', '0');\\n  </script>\\n\")"
      ]
     },
     "metadata": {},
     "output_type": "display_data"
    },
    {
     "data": {
      "text/html": [
       "<div class='display:none'></div><unsafe-script style='display:none'>\n",
       "WebIO.mount(this.previousSibling,{&quot;props&quot;:{},&quot;nodeType&quot;:&quot;DOM&quot;,&quot;type&quot;:&quot;node&quot;,&quot;instanceArgs&quot;:{&quot;namespace&quot;:&quot;html&quot;,&quot;tag&quot;:&quot;div&quot;},&quot;children&quot;:[{&quot;props&quot;:{&quot;className&quot;:&quot;field interact-widget&quot;},&quot;nodeType&quot;:&quot;DOM&quot;,&quot;type&quot;:&quot;node&quot;,&quot;instanceArgs&quot;:{&quot;namespace&quot;:&quot;html&quot;,&quot;tag&quot;:&quot;div&quot;},&quot;children&quot;:[{&quot;props&quot;:{},&quot;nodeType&quot;:&quot;Scope&quot;,&quot;type&quot;:&quot;node&quot;,&quot;instanceArgs&quot;:{&quot;imports&quot;:{&quot;data&quot;:[{&quot;name&quot;:&quot;knockout&quot;,&quot;type&quot;:&quot;js&quot;,&quot;url&quot;:&quot;/assetserver/3eba94e42381e338b63445bb6165a6b74dfff7fe-knockout.js&quot;},{&quot;name&quot;:&quot;knockout_punches&quot;,&quot;type&quot;:&quot;js&quot;,&quot;url&quot;:&quot;/assetserver/0b60b3bed0558f340d8f36b2e588fc19a5331e53-knockout_punches.js&quot;},{&quot;name&quot;:null,&quot;type&quot;:&quot;js&quot;,&quot;url&quot;:&quot;/assetserver/e375b04ed295e371b269e6282dd0ece1d8f25f7c-all.js&quot;},{&quot;name&quot;:null,&quot;type&quot;:&quot;css&quot;,&quot;url&quot;:&quot;/assetserver/74ab3fe28fdc96d2cdde1dc9103cd558bf15dd78-style.css&quot;},{&quot;name&quot;:null,&quot;type&quot;:&quot;css&quot;,&quot;url&quot;:&quot;/assetserver/2b9bd1a7f1fd27241339301563046b45b31a5a73-bulma_confined.min.css&quot;}],&quot;type&quot;:&quot;async_block&quot;},&quot;id&quot;:&quot;knockout-component-3a4089d5-9c0b-4915-ad77-f71390a7746e&quot;,&quot;handlers&quot;:{&quot;_promises&quot;:{&quot;importsLoaded&quot;:[function (ko, koPunches) {\n",
       "    ko.punches.enableAll();\n",
       "    ko.bindingHandlers.numericValue = {\n",
       "        init : function(element, valueAccessor, allBindings, data, context) {\n",
       "            var stringified = ko.observable(ko.unwrap(valueAccessor()));\n",
       "            stringified.subscribe(function(value) {\n",
       "                var val = parseFloat(value);\n",
       "                if (!isNaN(val)) {\n",
       "                    valueAccessor()(val);\n",
       "                }\n",
       "            })\n",
       "            valueAccessor().subscribe(function(value) {\n",
       "                var str = JSON.stringify(value);\n",
       "                if ((str == &quot;0&quot;) &amp;&amp; ([&quot;-0&quot;, &quot;-0.&quot;].indexOf(stringified()) &gt;= 0))\n",
       "                     return;\n",
       "                 if ([&quot;null&quot;, &quot;&quot;].indexOf(str) &gt;= 0)\n",
       "                     return;\n",
       "                stringified(str);\n",
       "            })\n",
       "            ko.applyBindingsToNode(element, { value: stringified, valueUpdate: allBindings.get(&#39;valueUpdate&#39;)}, context);\n",
       "        }\n",
       "    };\n",
       "    var json_data = {&quot;formatted_vals&quot;:[&quot;1&quot;,&quot;2&quot;,&quot;3&quot;,&quot;4&quot;,&quot;5&quot;,&quot;6&quot;],&quot;changes&quot;:WebIO.getval({&quot;name&quot;:&quot;changes&quot;,&quot;scope&quot;:&quot;knockout-component-3a4089d5-9c0b-4915-ad77-f71390a7746e&quot;,&quot;id&quot;:&quot;ob_02&quot;,&quot;type&quot;:&quot;observable&quot;}),&quot;indexString&quot;:WebIO.getval({&quot;name&quot;:&quot;indexString&quot;,&quot;scope&quot;:&quot;knockout-component-3a4089d5-9c0b-4915-ad77-f71390a7746e&quot;,&quot;id&quot;:&quot;ob_03&quot;,&quot;type&quot;:&quot;observable&quot;}),&quot;index&quot;:WebIO.getval({&quot;name&quot;:&quot;index&quot;,&quot;scope&quot;:&quot;knockout-component-3a4089d5-9c0b-4915-ad77-f71390a7746e&quot;,&quot;id&quot;:&quot;ob_01&quot;,&quot;type&quot;:&quot;observable&quot;})};\n",
       "    var self = this;\n",
       "    function AppViewModel() {\n",
       "        for (var key in json_data) {\n",
       "            var el = json_data[key];\n",
       "            this[key] = Array.isArray(el) ? ko.observableArray(el) : ko.observable(el);\n",
       "        }\n",
       "        \n",
       "        [this[&quot;formatted_val&quot;]=ko.computed(    function(){\n",
       "        return this.formatted_vals()[parseInt(this.index())-1];\n",
       "    }\n",
       ",this)]\n",
       "        [this[&quot;changes&quot;].subscribe((function (val){!(this.valueFromJulia[&quot;changes&quot;]) ? (WebIO.setval({&quot;name&quot;:&quot;changes&quot;,&quot;scope&quot;:&quot;knockout-component-3a4089d5-9c0b-4915-ad77-f71390a7746e&quot;,&quot;id&quot;:&quot;ob_02&quot;,&quot;type&quot;:&quot;observable&quot;},val)) : undefined; return this.valueFromJulia[&quot;changes&quot;]=false}),self),this[&quot;indexString&quot;].subscribe((function (val){!(this.valueFromJulia[&quot;indexString&quot;]) ? (WebIO.setval({&quot;name&quot;:&quot;indexString&quot;,&quot;scope&quot;:&quot;knockout-component-3a4089d5-9c0b-4915-ad77-f71390a7746e&quot;,&quot;id&quot;:&quot;ob_03&quot;,&quot;type&quot;:&quot;observable&quot;},val)) : undefined; return this.valueFromJulia[&quot;indexString&quot;]=false}),self),this[&quot;index&quot;].subscribe((function (val){!(this.valueFromJulia[&quot;index&quot;]) ? (WebIO.setval({&quot;name&quot;:&quot;index&quot;,&quot;scope&quot;:&quot;knockout-component-3a4089d5-9c0b-4915-ad77-f71390a7746e&quot;,&quot;id&quot;:&quot;ob_01&quot;,&quot;type&quot;:&quot;observable&quot;},val)) : undefined; return this.valueFromJulia[&quot;index&quot;]=false}),self)]\n",
       "                var obs = this.index;\n",
       "    var obsString = this.indexString;\n",
       "    obsString.subscribe(function(value) {\n",
       "        var val = parseFloat(value);\n",
       "        if (!isNaN(val)) {\n",
       "            obs(val);\n",
       "        }\n",
       "    })\n",
       "    obs.subscribe(function(value) {\n",
       "        var str = JSON.stringify(value);\n",
       "        if ((str == &quot;0&quot;) &amp;&amp; ([&quot;-0&quot;, &quot;-0.&quot;].indexOf(obsString()) &gt;= 0))\n",
       "             return;\n",
       "         if ([&quot;null&quot;, &quot;&quot;].indexOf(str) &gt;= 0)\n",
       "             return;\n",
       "        obsString(str);\n",
       "    })\n",
       "\n",
       "    \n",
       "\n",
       "    }\n",
       "    self.model = new AppViewModel();\n",
       "    self.valueFromJulia = {};\n",
       "    for (var key in json_data) {\n",
       "        self.valueFromJulia[key] = false;\n",
       "    }\n",
       "    ko.applyBindings(self.model, self.dom);\n",
       "}\n",
       "]},&quot;changes&quot;:[(function (val){return (val!=this.model[&quot;changes&quot;]()) ? (this.valueFromJulia[&quot;changes&quot;]=true, this.model[&quot;changes&quot;](val)) : undefined})],&quot;indexString&quot;:[(function (val){return (val!=this.model[&quot;indexString&quot;]()) ? (this.valueFromJulia[&quot;indexString&quot;]=true, this.model[&quot;indexString&quot;](val)) : undefined})],&quot;index&quot;:[(function (val){return (val!=this.model[&quot;index&quot;]()) ? (this.valueFromJulia[&quot;index&quot;]=true, this.model[&quot;index&quot;](val)) : undefined})]},&quot;systemjs_options&quot;:null,&quot;observables&quot;:{&quot;changes&quot;:{&quot;sync&quot;:false,&quot;id&quot;:&quot;ob_02&quot;,&quot;value&quot;:0},&quot;indexString&quot;:{&quot;sync&quot;:false,&quot;id&quot;:&quot;ob_03&quot;,&quot;value&quot;:&quot;3&quot;},&quot;index&quot;:{&quot;sync&quot;:true,&quot;id&quot;:&quot;ob_01&quot;,&quot;value&quot;:3}}},&quot;children&quot;:[{&quot;props&quot;:{&quot;className&quot;:&quot;interact-flex-row interact-widget&quot;},&quot;nodeType&quot;:&quot;DOM&quot;,&quot;type&quot;:&quot;node&quot;,&quot;instanceArgs&quot;:{&quot;namespace&quot;:&quot;html&quot;,&quot;tag&quot;:&quot;div&quot;},&quot;children&quot;:[{&quot;props&quot;:{&quot;className&quot;:&quot;interact-flex-row-left&quot;},&quot;nodeType&quot;:&quot;DOM&quot;,&quot;type&quot;:&quot;node&quot;,&quot;instanceArgs&quot;:{&quot;namespace&quot;:&quot;html&quot;,&quot;tag&quot;:&quot;div&quot;},&quot;children&quot;:[{&quot;props&quot;:{&quot;className&quot;:&quot;interact &quot;,&quot;style&quot;:{&quot;padding&quot;:&quot;5px 10px 0px 10px&quot;}},&quot;nodeType&quot;:&quot;DOM&quot;,&quot;type&quot;:&quot;node&quot;,&quot;instanceArgs&quot;:{&quot;namespace&quot;:&quot;html&quot;,&quot;tag&quot;:&quot;label&quot;},&quot;children&quot;:[&quot;i&quot;]}]},{&quot;props&quot;:{&quot;className&quot;:&quot;interact-flex-row-center&quot;},&quot;nodeType&quot;:&quot;DOM&quot;,&quot;type&quot;:&quot;node&quot;,&quot;instanceArgs&quot;:{&quot;namespace&quot;:&quot;html&quot;,&quot;tag&quot;:&quot;div&quot;},&quot;children&quot;:[{&quot;props&quot;:{&quot;max&quot;:6,&quot;min&quot;:1,&quot;attributes&quot;:{&quot;type&quot;:&quot;range&quot;,&quot;data-bind&quot;:&quot;value: indexString, valueUpdate: &#39;input&#39;, event: {change: function (){this.changes(this.changes()+1)}}&quot;,&quot;orient&quot;:&quot;horizontal&quot;},&quot;step&quot;:1,&quot;className&quot;:&quot;slider slider is-fullwidth&quot;,&quot;style&quot;:{}},&quot;nodeType&quot;:&quot;DOM&quot;,&quot;type&quot;:&quot;node&quot;,&quot;instanceArgs&quot;:{&quot;namespace&quot;:&quot;html&quot;,&quot;tag&quot;:&quot;input&quot;},&quot;children&quot;:[]}]},{&quot;props&quot;:{&quot;className&quot;:&quot;interact-flex-row-right&quot;},&quot;nodeType&quot;:&quot;DOM&quot;,&quot;type&quot;:&quot;node&quot;,&quot;instanceArgs&quot;:{&quot;namespace&quot;:&quot;html&quot;,&quot;tag&quot;:&quot;div&quot;},&quot;children&quot;:[{&quot;props&quot;:{&quot;attributes&quot;:{&quot;data-bind&quot;:&quot;text: formatted_val&quot;}},&quot;nodeType&quot;:&quot;DOM&quot;,&quot;type&quot;:&quot;node&quot;,&quot;instanceArgs&quot;:{&quot;namespace&quot;:&quot;html&quot;,&quot;tag&quot;:&quot;p&quot;},&quot;children&quot;:[]}]}]}]}]},{&quot;props&quot;:{},&quot;nodeType&quot;:&quot;Scope&quot;,&quot;type&quot;:&quot;node&quot;,&quot;instanceArgs&quot;:{&quot;imports&quot;:{&quot;data&quot;:[],&quot;type&quot;:&quot;async_block&quot;},&quot;id&quot;:&quot;scope-2485f7e2-9882-4c10-a16c-b044de8d4a90&quot;,&quot;handlers&quot;:{&quot;obs-output&quot;:[function (updated_htmlstr) {\n",
       "    var el = this.dom.querySelector(&quot;#out&quot;);\n",
       "    WebIO.propUtils.setInnerHtml(el, updated_htmlstr);\n",
       "}]},&quot;systemjs_options&quot;:null,&quot;observables&quot;:{&quot;obs-output&quot;:{&quot;sync&quot;:false,&quot;id&quot;:&quot;ob_07&quot;,&quot;value&quot;:&quot;&lt;div class=&#39;display:none&#39;&gt;&lt;/div&gt;&lt;unsafe-script style=&#39;display:none&#39;&gt;\\nWebIO.mount(this.previousSibling,{&amp;quot;props&amp;quot;:{&amp;quot;className&amp;quot;:&amp;quot;interact-flex-row interact-widget&amp;quot;},&amp;quot;nodeType&amp;quot;:&amp;quot;DOM&amp;quot;,&amp;quot;type&amp;quot;:&amp;quot;node&amp;quot;,&amp;quot;instanceArgs&amp;quot;:{&amp;quot;namespace&amp;quot;:&amp;quot;html&amp;quot;,&amp;quot;tag&amp;quot;:&amp;quot;div&amp;quot;},&amp;quot;children&amp;quot;:[{&amp;quot;props&amp;quot;:{&amp;quot;setInnerHtml&amp;quot;:&amp;quot;&amp;lt;img src=&amp;#39;data:image/png;base64,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&amp;#39;&amp;gt;&amp;lt;/img&amp;gt;&amp;quot;},&amp;quot;nodeType&amp;quot;:&amp;quot;DOM&amp;quot;,&amp;quot;type&amp;quot;:&amp;quot;node&amp;quot;,&amp;quot;instanceArgs&amp;quot;:{&amp;quot;namespace&amp;quot;:&amp;quot;html&amp;quot;,&amp;quot;tag&amp;quot;:&amp;quot;div&amp;quot;},&amp;quot;children&amp;quot;:[]}]})&lt;/unsafe-script&gt;&quot;}}},&quot;children&quot;:[{&quot;props&quot;:{&quot;id&quot;:&quot;out&quot;,&quot;setInnerHtml&quot;:&quot;&lt;div class=&#39;display:none&#39;&gt;&lt;/div&gt;&lt;unsafe-script style=&#39;display:none&#39;&gt;\\nWebIO.mount(this.previousSibling,{&amp;quot;props&amp;quot;:{&amp;quot;className&amp;quot;:&amp;quot;interact-flex-row interact-widget&amp;quot;},&amp;quot;nodeType&amp;quot;:&amp;quot;DOM&amp;quot;,&amp;quot;type&amp;quot;:&amp;quot;node&amp;quot;,&amp;quot;instanceArgs&amp;quot;:{&amp;quot;namespace&amp;quot;:&amp;quot;html&amp;quot;,&amp;quot;tag&amp;quot;:&amp;quot;div&amp;quot;},&amp;quot;children&amp;quot;:[{&amp;quot;props&amp;quot;:{&amp;quot;setInnerHtml&amp;quot;:&amp;quot;&amp;lt;img src=&amp;#39;data:image/png;base64,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&amp;#39;&amp;gt;&amp;lt;/img&amp;gt;&amp;quot;},&amp;quot;nodeType&amp;quot;:&amp;quot;DOM&amp;quot;,&amp;quot;type&amp;quot;:&amp;quot;node&amp;quot;,&amp;quot;instanceArgs&amp;quot;:{&amp;quot;namespace&amp;quot;:&amp;quot;html&amp;quot;,&amp;quot;tag&amp;quot;:&amp;quot;div&amp;quot;},&amp;quot;children&amp;quot;:[]}]})&lt;/unsafe-script&gt;&quot;},&quot;nodeType&quot;:&quot;DOM&quot;,&quot;type&quot;:&quot;node&quot;,&quot;instanceArgs&quot;:{&quot;namespace&quot;:&quot;html&quot;,&quot;tag&quot;:&quot;div&quot;},&quot;children&quot;:[]}]}]})</unsafe-script>"
      ],
      "text/plain": [
       "Node{WebIO.DOM}(WebIO.DOM(:html, :div), Any[Node{DOM}(DOM(:html, :div), Any[Scope(\"knockout-component-3a4089d5-9c0b-4915-ad77-f71390a7746e\", Node{DOM}(DOM(:html, :div), Any[Node{DOM}(DOM(:html, :div), Any[Node{DOM}(DOM(:html, :label), Any[\"i\"], Dict{Symbol,Any}(:className=>\"interact \",:style=>Dict{Any,Any}(:padding=>\"5px 10px 0px 10px\")), 1)], Dict{Symbol,Any}(:className=>\"interact-flex-row-left\"), 2), Node{DOM}(DOM(:html, :div), Any[Node{DOM}(DOM(:html, :input), Any[], Dict{Symbol,Any}(:max=>6,:min=>1,:attributes=>Dict{Any,Any}(:type=>\"range\",Symbol(\"data-bind\")=>\"value: indexString, valueUpdate: 'input', event: {change: function (){this.changes(this.changes()+1)}}\",\"orient\"=>\"horizontal\"),:step=>1,:className=>\"slider slider is-fullwidth\",:style=>Dict{Any,Any}()), 0)], Dict{Symbol,Any}(:className=>\"interact-flex-row-center\"), 1), Node{DOM}(DOM(:html, :div), Any[Node{DOM}(DOM(:html, :p), Any[], Dict{Symbol,Any}(:attributes=>Dict(\"data-bind\"=>\"text: formatted_val\")), 0)], Dict{Symbol,Any}(:className=>\"interact-flex-row-right\"), 1)], Dict{Symbol,Any}(:className=>\"interact-flex-row interact-widget\"), 7), Dict{String,Tuple{Observables.AbstractObservable,Union{Nothing, Bool}}}(\"changes\"=>(Observable{Int64} with 1 listeners. Value:\n",
       "0, nothing),\"indexString\"=>(Observable{String} with 1 listeners. Value:\n",
       "\"3\", nothing),\"index\"=>(Observable{Int64} with 2 listeners. Value:\n",
       "3, nothing)), Set(String[]), nothing, Any[\"knockout\"=>\"C:\\\\Users\\\\Maxime\\\\.julia\\\\packages\\\\Knockout\\\\JE2Yq\\\\src\\\\..\\\\assets\\\\knockout.js\", \"knockout_punches\"=>\"C:\\\\Users\\\\Maxime\\\\.julia\\\\packages\\\\Knockout\\\\JE2Yq\\\\src\\\\..\\\\assets\\\\knockout_punches.js\", \"C:\\\\Users\\\\Maxime\\\\.julia\\\\packages\\\\InteractBase\\\\jyXKw\\\\src\\\\..\\\\assets\\\\all.js\", \"C:\\\\Users\\\\Maxime\\\\.julia\\\\packages\\\\InteractBase\\\\jyXKw\\\\src\\\\..\\\\assets\\\\style.css\", \"C:\\\\Users\\\\Maxime\\\\.julia\\\\packages\\\\Interact\\\\Fs3lV\\\\src\\\\..\\\\assets\\\\bulma_confined.min.css\"], Dict{Any,Any}(\"_promises\"=>Dict{Any,Any}(\"importsLoaded\"=>Any[JSString(\"function (ko, koPunches) {\\n    ko.punches.enableAll();\\n    ko.bindingHandlers.numericValue = {\\n        init : function(element, valueAccessor, allBindings, data, context) {\\n            var stringified = ko.observable(ko.unwrap(valueAccessor()));\\n            stringified.subscribe(function(value) {\\n                var val = parseFloat(value);\\n                if (!isNaN(val)) {\\n                    valueAccessor()(val);\\n                }\\n            })\\n            valueAccessor().subscribe(function(value) {\\n                var str = JSON.stringify(value);\\n                if ((str == \\\"0\\\") && ([\\\"-0\\\", \\\"-0.\\\"].indexOf(stringified()) >= 0))\\n                     return;\\n                 if ([\\\"null\\\", \\\"\\\"].indexOf(str) >= 0)\\n                     return;\\n                stringified(str);\\n            })\\n            ko.applyBindingsToNode(element, { value: stringified, valueUpdate: allBindings.get('valueUpdate')}, context);\\n        }\\n    };\\n    var json_data = {\\\"formatted_vals\\\":[\\\"1\\\",\\\"2\\\",\\\"3\\\",\\\"4\\\",\\\"5\\\",\\\"6\\\"],\\\"changes\\\":WebIO.getval({\\\"name\\\":\\\"changes\\\",\\\"scope\\\":\\\"knockout-component-3a4089d5-9c0b-4915-ad77-f71390a7746e\\\",\\\"id\\\":\\\"ob_02\\\",\\\"type\\\":\\\"observable\\\"}),\\\"indexString\\\":WebIO.getval({\\\"name\\\":\\\"indexString\\\",\\\"scope\\\":\\\"knockout-component-3a4089d5-9c0b-4915-ad77-f71390a7746e\\\",\\\"id\\\":\\\"ob_03\\\",\\\"type\\\":\\\"observable\\\"}),\\\"index\\\":WebIO.getval({\\\"name\\\":\\\"index\\\",\\\"scope\\\":\\\"knockout-component-3a4089d5-9c0b-4915-ad77-f71390a7746e\\\",\\\"id\\\":\\\"ob_01\\\",\\\"type\\\":\\\"observable\\\"})};\\n    var self = this;\\n    function AppViewModel() {\\n        for (var key in json_data) {\\n            var el = json_data[key];\\n            this[key] = Array.isArray(el) ? ko.observableArray(el) : ko.observable(el);\\n        }\\n        \\n        [this[\\\"formatted_val\\\"]=ko.computed(    function(){\\n        return this.formatted_vals()[parseInt(this.index())-1];\\n    }\\n,this)]\\n        [this[\\\"changes\\\"].subscribe((function (val){!(this.valueFromJulia[\\\"changes\\\"]) ? (WebIO.setval({\\\"name\\\":\\\"changes\\\",\\\"scope\\\":\\\"knockout-component-3a4089d5-9c0b-4915-ad77-f71390a7746e\\\",\\\"id\\\":\\\"ob_02\\\",\\\"type\\\":\\\"observable\\\"},val)) : undefined; return this.valueFromJulia[\\\"changes\\\"]=false}),self),this[\\\"indexString\\\"].subscribe((function (val){!(this.valueFromJulia[\\\"indexString\\\"]) ? (WebIO.setval({\\\"name\\\":\\\"indexString\\\",\\\"scope\\\":\\\"knockout-component-3a4089d5-9c0b-4915-ad77-f71390a7746e\\\",\\\"id\\\":\\\"ob_03\\\",\\\"type\\\":\\\"observable\\\"},val)) : undefined; return this.valueFromJulia[\\\"indexString\\\"]=false}),self),this[\\\"index\\\"].subscribe((function (val){!(this.valueFromJulia[\\\"index\\\"]) ? (WebIO.setval({\\\"name\\\":\\\"index\\\",\\\"scope\\\":\\\"knockout-component-3a4089d5-9c0b-4915-ad77-f71390a7746e\\\",\\\"id\\\":\\\"ob_01\\\",\\\"type\\\":\\\"observable\\\"},val)) : undefined; return this.valueFromJulia[\\\"index\\\"]=false}),self)]\\n                var obs = this.index;\\n    var obsString = this.indexString;\\n    obsString.subscribe(function(value) {\\n        var val = parseFloat(value);\\n        if (!isNaN(val)) {\\n            obs(val);\\n        }\\n    })\\n    obs.subscribe(function(value) {\\n        var str = JSON.stringify(value);\\n        if ((str == \\\"0\\\") && ([\\\"-0\\\", \\\"-0.\\\"].indexOf(obsString()) >= 0))\\n             return;\\n         if ([\\\"null\\\", \\\"\\\"].indexOf(str) >= 0)\\n             return;\\n        obsString(str);\\n    })\\n\\n    \\n\\n    }\\n    self.model = new AppViewModel();\\n    self.valueFromJulia = {};\\n    for (var key in json_data) {\\n        self.valueFromJulia[key] = false;\\n    }\\n    ko.applyBindings(self.model, self.dom);\\n}\\n\")]),\"changes\"=>Any[JSString(\"(function (val){return (val!=this.model[\\\"changes\\\"]()) ? (this.valueFromJulia[\\\"changes\\\"]=true, this.model[\\\"changes\\\"](val)) : undefined})\")],\"indexString\"=>Any[JSString(\"(function (val){return (val!=this.model[\\\"indexString\\\"]()) ? (this.valueFromJulia[\\\"indexString\\\"]=true, this.model[\\\"indexString\\\"](val)) : undefined})\")],\"index\"=>Any[JSString(\"(function (val){return (val!=this.model[\\\"index\\\"]()) ? (this.valueFromJulia[\\\"index\\\"]=true, this.model[\\\"index\\\"](val)) : undefined})\")]), ConnectionPool(Channel{Any}(sz_max:9223372036854775807,sz_curr:3), Set(AbstractConnection[]), Channel{AbstractConnection}(sz_max:32,sz_curr:0)))], Dict{Symbol,Any}(:className=>\"field interact-widget\"), 1), Observable{Any} with 0 listeners. Value:\n",
       "Node{DOM}(DOM(:html, :div), Any[CairoSurfaceBase{UInt32}(Ptr{Nothing} @0x000000001fba9010, 1000.0, 600.0)], Dict{Symbol,Any}(:className=>\"interact-flex-row interact-widget\"), 1)], Dict{Symbol,Any}(), 2)"
      ]
     },
     "execution_count": 7,
     "metadata": {},
     "output_type": "execute_result"
    }
   ],
   "source": [
    "using Interact\n",
    "\n",
    "scene = Scene()\n",
    "\n",
    "struct LaneOverlay <: SceneOverlay\n",
    "    lane::Lane\n",
    "    color::Colorant\n",
    "end\n",
    "function AutoViz.render!(rendermodel::RenderModel, overlay::LaneOverlay, scene::Scene, roadway::Roadway)\n",
    "    render!(rendermodel, overlay.lane, roadway, color_asphalt=overlay.color)\n",
    "    return rendermodel\n",
    "end\n",
    "\n",
    "@manipulate for i in 1 : length(roadway.segments)\n",
    "    render(scene, roadway, [LaneOverlay(roadway[LaneTag(i,1)], RGBA(0.0,0.0,1.0,0.5))], cam=cam)\n",
    "end"
   ]
  },
  {
   "cell_type": "markdown",
   "metadata": {},
   "source": [
    "## Navigate in the new road network\n",
    "\n",
    "Let's populate the intersection"
   ]
  },
  {
   "cell_type": "code",
   "execution_count": 8,
   "metadata": {},
   "outputs": [
    {
     "data": {
      "image/png": "[encoded data removed]",
      "text/plain": [
       "Cairo.CairoSurfaceBase{UInt32}(Ptr{Nothing} @0x000000001fba8840, 1000.0, 600.0)"
      ]
     },
     "execution_count": 8,
     "metadata": {},
     "output_type": "execute_result"
    }
   ],
   "source": [
    "scene = Scene()\n",
    "vs0 = VehicleState(B + polar(50.0,-π), roadway, 8.0) # initial state of the vehicle\n",
    "push!(scene, Vehicle(vs0, VehicleDef(), 1)) # add vehicle with the default type\n",
    "\n",
    "render(scene, roadway, cam=cam)"
   ]
  },
  {
   "cell_type": "markdown",
   "metadata": {},
   "source": [
    "We will use lateral and longitudinal acceleration to control a car in the intersection. The first step is to define a corresponding action type that will contain the acceleration inputs.\n"
   ]
  },
  {
   "cell_type": "code",
   "execution_count": 9,
   "metadata": {},
   "outputs": [],
   "source": [
    "struct LaneSpecificAccelLatLon\n",
    "    a_lat::Float64\n",
    "    a_lon::Float64\n",
    "end"
   ]
  },
  {
   "cell_type": "markdown",
   "metadata": {},
   "source": [
    "Next, add a method to the propagate function to update the state using our new action type. \n",
    "\n",
    "\n",
    "**Note:** There is an existing propagate method to update the state using lateral and longitudinal acceleration. (it is used in line 3)"
   ]
  },
  {
   "cell_type": "code",
   "execution_count": 10,
   "metadata": {},
   "outputs": [],
   "source": [
    "function AutomotiveDrivingModels.propagate(veh::Vehicle, action::LaneSpecificAccelLatLon, roadway::Roadway, Δt::Float64)\n",
    "    lane_tag_orig = veh.state.posF.roadind.tag\n",
    "    state = propagate(veh, LatLonAccel(action.a_lat, action.a_lon), roadway, Δt)\n",
    "    roadproj = proj(state.posG, roadway[lane_tag_orig], roadway, move_along_curves=false)\n",
    "    retval = VehicleState(Frenet(roadproj, roadway), roadway, state.v)\n",
    "    return retval\n",
    "end"
   ]
  },
  {
   "cell_type": "markdown",
   "metadata": {},
   "source": [
    "**Driver Model:**\n",
    "\n",
    "We define a driver model, which can be seen as a distribution over actions. Here we will define the simplest model, which is to repeat the same action."
   ]
  },
  {
   "cell_type": "code",
   "execution_count": 11,
   "metadata": {},
   "outputs": [],
   "source": [
    "struct InterDriver <: DriverModel{LaneSpecificAccelLatLon}\n",
    "    a::LaneSpecificAccelLatLon\n",
    "end\n",
    "AutomotiveDrivingModels.get_name(model::InterDriver) = \"InterDriver\"\n",
    "Base.rand(model::InterDriver) = model.a"
   ]
  },
  {
   "cell_type": "markdown",
   "metadata": {},
   "source": [
    "**Simulate: **\n",
    "\n",
    "First associate a model to each driver in the scene using a dictionnary. Here we only have one driver identified by its ID: 1. Then everything is ready to run the ```simulate!``` function."
   ]
  },
  {
   "cell_type": "code",
   "execution_count": 12,
   "metadata": {},
   "outputs": [
    {
     "data": {
      "text/html": [
       "<div class='display:none'></div><unsafe-script style='display:none'>\n",
       "WebIO.mount(this.previousSibling,{&quot;props&quot;:{},&quot;nodeType&quot;:&quot;DOM&quot;,&quot;type&quot;:&quot;node&quot;,&quot;instanceArgs&quot;:{&quot;namespace&quot;:&quot;html&quot;,&quot;tag&quot;:&quot;div&quot;},&quot;children&quot;:[{&quot;props&quot;:{&quot;className&quot;:&quot;field interact-widget&quot;},&quot;nodeType&quot;:&quot;DOM&quot;,&quot;type&quot;:&quot;node&quot;,&quot;instanceArgs&quot;:{&quot;namespace&quot;:&quot;html&quot;,&quot;tag&quot;:&quot;div&quot;},&quot;children&quot;:[{&quot;props&quot;:{},&quot;nodeType&quot;:&quot;Scope&quot;,&quot;type&quot;:&quot;node&quot;,&quot;instanceArgs&quot;:{&quot;imports&quot;:{&quot;data&quot;:[{&quot;name&quot;:&quot;knockout&quot;,&quot;type&quot;:&quot;js&quot;,&quot;url&quot;:&quot;/assetserver/3eba94e42381e338b63445bb6165a6b74dfff7fe-knockout.js&quot;},{&quot;name&quot;:&quot;knockout_punches&quot;,&quot;type&quot;:&quot;js&quot;,&quot;url&quot;:&quot;/assetserver/0b60b3bed0558f340d8f36b2e588fc19a5331e53-knockout_punches.js&quot;},{&quot;name&quot;:null,&quot;type&quot;:&quot;js&quot;,&quot;url&quot;:&quot;/assetserver/e375b04ed295e371b269e6282dd0ece1d8f25f7c-all.js&quot;},{&quot;name&quot;:null,&quot;type&quot;:&quot;css&quot;,&quot;url&quot;:&quot;/assetserver/74ab3fe28fdc96d2cdde1dc9103cd558bf15dd78-style.css&quot;},{&quot;name&quot;:null,&quot;type&quot;:&quot;css&quot;,&quot;url&quot;:&quot;/assetserver/2b9bd1a7f1fd27241339301563046b45b31a5a73-bulma_confined.min.css&quot;}],&quot;type&quot;:&quot;async_block&quot;},&quot;id&quot;:&quot;knockout-component-a265fd17-4aca-4b8f-b86d-9fb1e88c6283&quot;,&quot;handlers&quot;:{&quot;_promises&quot;:{&quot;importsLoaded&quot;:[function (ko, koPunches) {\n",
       "    ko.punches.enableAll();\n",
       "    ko.bindingHandlers.numericValue = {\n",
       "        init : function(element, valueAccessor, allBindings, data, context) {\n",
       "            var stringified = ko.observable(ko.unwrap(valueAccessor()));\n",
       "            stringified.subscribe(function(value) {\n",
       "                var val = parseFloat(value);\n",
       "                if (!isNaN(val)) {\n",
       "                    valueAccessor()(val);\n",
       "                }\n",
       "            })\n",
       "            valueAccessor().subscribe(function(value) {\n",
       "                var str = JSON.stringify(value);\n",
       "                if ((str == &quot;0&quot;) &amp;&amp; ([&quot;-0&quot;, &quot;-0.&quot;].indexOf(stringified()) &gt;= 0))\n",
       "                     return;\n",
       "                 if ([&quot;null&quot;, &quot;&quot;].indexOf(str) &gt;= 0)\n",
       "                     return;\n",
       "                stringified(str);\n",
       "            })\n",
       "            ko.applyBindingsToNode(element, { value: stringified, valueUpdate: allBindings.get(&#39;valueUpdate&#39;)}, context);\n",
       "        }\n",
       "    };\n",
       "    var json_data = {&quot;formatted_vals&quot;:[&quot;1&quot;,&quot;2&quot;,&quot;3&quot;,&quot;4&quot;,&quot;5&quot;,&quot;6&quot;,&quot;7&quot;,&quot;8&quot;,&quot;9&quot;,&quot;10&quot;,&quot;11&quot;,&quot;12&quot;,&quot;13&quot;,&quot;14&quot;,&quot;15&quot;,&quot;16&quot;,&quot;17&quot;,&quot;18&quot;,&quot;19&quot;,&quot;20&quot;,&quot;21&quot;,&quot;22&quot;,&quot;23&quot;,&quot;24&quot;,&quot;25&quot;,&quot;26&quot;,&quot;27&quot;,&quot;28&quot;,&quot;29&quot;,&quot;30&quot;,&quot;31&quot;,&quot;32&quot;,&quot;33&quot;,&quot;34&quot;,&quot;35&quot;,&quot;36&quot;,&quot;37&quot;,&quot;38&quot;,&quot;39&quot;,&quot;40&quot;,&quot;41&quot;,&quot;42&quot;,&quot;43&quot;,&quot;44&quot;,&quot;45&quot;,&quot;46&quot;,&quot;47&quot;,&quot;48&quot;,&quot;49&quot;,&quot;50&quot;,&quot;51&quot;,&quot;52&quot;,&quot;53&quot;,&quot;54&quot;,&quot;55&quot;,&quot;56&quot;,&quot;57&quot;,&quot;58&quot;,&quot;59&quot;,&quot;60&quot;,&quot;61&quot;,&quot;62&quot;,&quot;63&quot;,&quot;64&quot;,&quot;65&quot;,&quot;66&quot;,&quot;67&quot;,&quot;68&quot;,&quot;69&quot;,&quot;70&quot;,&quot;71&quot;,&quot;72&quot;,&quot;73&quot;,&quot;74&quot;,&quot;75&quot;,&quot;76&quot;,&quot;77&quot;,&quot;78&quot;,&quot;79&quot;,&quot;80&quot;,&quot;81&quot;,&quot;82&quot;,&quot;83&quot;,&quot;84&quot;,&quot;85&quot;,&quot;86&quot;,&quot;87&quot;,&quot;88&quot;,&quot;89&quot;,&quot;90&quot;,&quot;91&quot;,&quot;92&quot;,&quot;93&quot;,&quot;94&quot;,&quot;95&quot;,&quot;96&quot;,&quot;97&quot;,&quot;98&quot;,&quot;99&quot;,&quot;100&quot;,&quot;101&quot;],&quot;changes&quot;:WebIO.getval({&quot;name&quot;:&quot;changes&quot;,&quot;scope&quot;:&quot;knockout-component-a265fd17-4aca-4b8f-b86d-9fb1e88c6283&quot;,&quot;id&quot;:&quot;ob_09&quot;,&quot;type&quot;:&quot;observable&quot;}),&quot;indexString&quot;:WebIO.getval({&quot;name&quot;:&quot;indexString&quot;,&quot;scope&quot;:&quot;knockout-component-a265fd17-4aca-4b8f-b86d-9fb1e88c6283&quot;,&quot;id&quot;:&quot;ob_10&quot;,&quot;type&quot;:&quot;observable&quot;}),&quot;index&quot;:WebIO.getval({&quot;name&quot;:&quot;index&quot;,&quot;scope&quot;:&quot;knockout-component-a265fd17-4aca-4b8f-b86d-9fb1e88c6283&quot;,&quot;id&quot;:&quot;ob_08&quot;,&quot;type&quot;:&quot;observable&quot;})};\n",
       "    var self = this;\n",
       "    function AppViewModel() {\n",
       "        for (var key in json_data) {\n",
       "            var el = json_data[key];\n",
       "            this[key] = Array.isArray(el) ? ko.observableArray(el) : ko.observable(el);\n",
       "        }\n",
       "        \n",
       "        [this[&quot;formatted_val&quot;]=ko.computed(    function(){\n",
       "        return this.formatted_vals()[parseInt(this.index())-1];\n",
       "    }\n",
       ",this)]\n",
       "        [this[&quot;changes&quot;].subscribe((function (val){!(this.valueFromJulia[&quot;changes&quot;]) ? (WebIO.setval({&quot;name&quot;:&quot;changes&quot;,&quot;scope&quot;:&quot;knockout-component-a265fd17-4aca-4b8f-b86d-9fb1e88c6283&quot;,&quot;id&quot;:&quot;ob_09&quot;,&quot;type&quot;:&quot;observable&quot;},val)) : undefined; return this.valueFromJulia[&quot;changes&quot;]=false}),self),this[&quot;indexString&quot;].subscribe((function (val){!(this.valueFromJulia[&quot;indexString&quot;]) ? (WebIO.setval({&quot;name&quot;:&quot;indexString&quot;,&quot;scope&quot;:&quot;knockout-component-a265fd17-4aca-4b8f-b86d-9fb1e88c6283&quot;,&quot;id&quot;:&quot;ob_10&quot;,&quot;type&quot;:&quot;observable&quot;},val)) : undefined; return this.valueFromJulia[&quot;indexString&quot;]=false}),self),this[&quot;index&quot;].subscribe((function (val){!(this.valueFromJulia[&quot;index&quot;]) ? (WebIO.setval({&quot;name&quot;:&quot;index&quot;,&quot;scope&quot;:&quot;knockout-component-a265fd17-4aca-4b8f-b86d-9fb1e88c6283&quot;,&quot;id&quot;:&quot;ob_08&quot;,&quot;type&quot;:&quot;observable&quot;},val)) : undefined; return this.valueFromJulia[&quot;index&quot;]=false}),self)]\n",
       "                var obs = this.index;\n",
       "    var obsString = this.indexString;\n",
       "    obsString.subscribe(function(value) {\n",
       "        var val = parseFloat(value);\n",
       "        if (!isNaN(val)) {\n",
       "            obs(val);\n",
       "        }\n",
       "    })\n",
       "    obs.subscribe(function(value) {\n",
       "        var str = JSON.stringify(value);\n",
       "        if ((str == &quot;0&quot;) &amp;&amp; ([&quot;-0&quot;, &quot;-0.&quot;].indexOf(obsString()) &gt;= 0))\n",
       "             return;\n",
       "         if ([&quot;null&quot;, &quot;&quot;].indexOf(str) &gt;= 0)\n",
       "             return;\n",
       "        obsString(str);\n",
       "    })\n",
       "\n",
       "    \n",
       "\n",
       "    }\n",
       "    self.model = new AppViewModel();\n",
       "    self.valueFromJulia = {};\n",
       "    for (var key in json_data) {\n",
       "        self.valueFromJulia[key] = false;\n",
       "    }\n",
       "    ko.applyBindings(self.model, self.dom);\n",
       "}\n",
       "]},&quot;changes&quot;:[(function (val){return (val!=this.model[&quot;changes&quot;]()) ? (this.valueFromJulia[&quot;changes&quot;]=true, this.model[&quot;changes&quot;](val)) : undefined})],&quot;indexString&quot;:[(function (val){return (val!=this.model[&quot;indexString&quot;]()) ? (this.valueFromJulia[&quot;indexString&quot;]=true, this.model[&quot;indexString&quot;](val)) : undefined})],&quot;index&quot;:[(function (val){return (val!=this.model[&quot;index&quot;]()) ? (this.valueFromJulia[&quot;index&quot;]=true, this.model[&quot;index&quot;](val)) : undefined})]},&quot;systemjs_options&quot;:null,&quot;observables&quot;:{&quot;changes&quot;:{&quot;sync&quot;:false,&quot;id&quot;:&quot;ob_09&quot;,&quot;value&quot;:0},&quot;indexString&quot;:{&quot;sync&quot;:false,&quot;id&quot;:&quot;ob_10&quot;,&quot;value&quot;:&quot;51&quot;},&quot;index&quot;:{&quot;sync&quot;:true,&quot;id&quot;:&quot;ob_08&quot;,&quot;value&quot;:51}}},&quot;children&quot;:[{&quot;props&quot;:{&quot;className&quot;:&quot;interact-flex-row interact-widget&quot;},&quot;nodeType&quot;:&quot;DOM&quot;,&quot;type&quot;:&quot;node&quot;,&quot;instanceArgs&quot;:{&quot;namespace&quot;:&quot;html&quot;,&quot;tag&quot;:&quot;div&quot;},&quot;children&quot;:[{&quot;props&quot;:{&quot;className&quot;:&quot;interact-flex-row-left&quot;},&quot;nodeType&quot;:&quot;DOM&quot;,&quot;type&quot;:&quot;node&quot;,&quot;instanceArgs&quot;:{&quot;namespace&quot;:&quot;html&quot;,&quot;tag&quot;:&quot;div&quot;},&quot;children&quot;:[{&quot;props&quot;:{&quot;className&quot;:&quot;interact &quot;,&quot;style&quot;:{&quot;padding&quot;:&quot;5px 10px 0px 10px&quot;}},&quot;nodeType&quot;:&quot;DOM&quot;,&quot;type&quot;:&quot;node&quot;,&quot;instanceArgs&quot;:{&quot;namespace&quot;:&quot;html&quot;,&quot;tag&quot;:&quot;label&quot;},&quot;children&quot;:[&quot;frame_index&quot;]}]},{&quot;props&quot;:{&quot;className&quot;:&quot;interact-flex-row-center&quot;},&quot;nodeType&quot;:&quot;DOM&quot;,&quot;type&quot;:&quot;node&quot;,&quot;instanceArgs&quot;:{&quot;namespace&quot;:&quot;html&quot;,&quot;tag&quot;:&quot;div&quot;},&quot;children&quot;:[{&quot;props&quot;:{&quot;max&quot;:101,&quot;min&quot;:1,&quot;attributes&quot;:{&quot;type&quot;:&quot;range&quot;,&quot;data-bind&quot;:&quot;value: indexString, valueUpdate: &#39;input&#39;, event: {change: function (){this.changes(this.changes()+1)}}&quot;,&quot;orient&quot;:&quot;horizontal&quot;},&quot;step&quot;:1,&quot;className&quot;:&quot;slider slider is-fullwidth&quot;,&quot;style&quot;:{}},&quot;nodeType&quot;:&quot;DOM&quot;,&quot;type&quot;:&quot;node&quot;,&quot;instanceArgs&quot;:{&quot;namespace&quot;:&quot;html&quot;,&quot;tag&quot;:&quot;input&quot;},&quot;children&quot;:[]}]},{&quot;props&quot;:{&quot;className&quot;:&quot;interact-flex-row-right&quot;},&quot;nodeType&quot;:&quot;DOM&quot;,&quot;type&quot;:&quot;node&quot;,&quot;instanceArgs&quot;:{&quot;namespace&quot;:&quot;html&quot;,&quot;tag&quot;:&quot;div&quot;},&quot;children&quot;:[{&quot;props&quot;:{&quot;attributes&quot;:{&quot;data-bind&quot;:&quot;text: formatted_val&quot;}},&quot;nodeType&quot;:&quot;DOM&quot;,&quot;type&quot;:&quot;node&quot;,&quot;instanceArgs&quot;:{&quot;namespace&quot;:&quot;html&quot;,&quot;tag&quot;:&quot;p&quot;},&quot;children&quot;:[]}]}]}]}]},{&quot;props&quot;:{},&quot;nodeType&quot;:&quot;Scope&quot;,&quot;type&quot;:&quot;node&quot;,&quot;instanceArgs&quot;:{&quot;imports&quot;:{&quot;data&quot;:[],&quot;type&quot;:&quot;async_block&quot;},&quot;id&quot;:&quot;scope-686d26ee-7f18-4767-939f-570b24ac742f&quot;,&quot;handlers&quot;:{&quot;obs-output&quot;:[function (updated_htmlstr) {\n",
       "    var el = this.dom.querySelector(&quot;#out&quot;);\n",
       "    WebIO.propUtils.setInnerHtml(el, updated_htmlstr);\n",
       "}]},&quot;systemjs_options&quot;:null,&quot;observables&quot;:{&quot;obs-output&quot;:{&quot;sync&quot;:false,&quot;id&quot;:&quot;ob_14&quot;,&quot;value&quot;:&quot;&lt;div class=&#39;display:none&#39;&gt;&lt;/div&gt;&lt;unsafe-script style=&#39;display:none&#39;&gt;\\nWebIO.mount(this.previousSibling,{&amp;quot;props&amp;quot;:{&amp;quot;className&amp;quot;:&amp;quot;interact-flex-row interact-widget&amp;quot;},&amp;quot;nodeType&amp;quot;:&amp;quot;DOM&amp;quot;,&amp;quot;type&amp;quot;:&amp;quot;node&amp;quot;,&amp;quot;instanceArgs&amp;quot;:{&amp;quot;namespace&amp;quot;:&amp;quot;html&amp;quot;,&amp;quot;tag&amp;quot;:&amp;quot;div&amp;quot;},&amp;quot;children&amp;quot;:[{&amp;quot;props&amp;quot;:{&amp;quot;setInnerHtml&amp;quot;:&amp;quot;&amp;lt;img src=&amp;#39;data:image/png;base64,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&amp;#39;&amp;gt;&amp;lt;/img&amp;gt;&amp;quot;},&amp;quot;nodeType&amp;quot;:&amp;quot;DOM&amp;quot;,&amp;quot;type&amp;quot;:&amp;quot;node&amp;quot;,&amp;quot;instanceArgs&amp;quot;:{&amp;quot;namespace&amp;quot;:&amp;quot;html&amp;quot;,&amp;quot;tag&amp;quot;:&amp;quot;div&amp;quot;},&amp;quot;children&amp;quot;:[]}]})&lt;/unsafe-script&gt;&quot;}}},&quot;children&quot;:[{&quot;props&quot;:{&quot;id&quot;:&quot;out&quot;,&quot;setInnerHtml&quot;:&quot;&lt;div class=&#39;display:none&#39;&gt;&lt;/div&gt;&lt;unsafe-script style=&#39;display:none&#39;&gt;\\nWebIO.mount(this.previousSibling,{&amp;quot;props&amp;quot;:{&amp;quot;className&amp;quot;:&amp;quot;interact-flex-row interact-widget&amp;quot;},&amp;quot;nodeType&amp;quot;:&amp;quot;DOM&amp;quot;,&amp;quot;type&amp;quot;:&amp;quot;node&amp;quot;,&amp;quot;instanceArgs&amp;quot;:{&amp;quot;namespace&amp;quot;:&amp;quot;html&amp;quot;,&amp;quot;tag&amp;quot;:&amp;quot;div&amp;quot;},&amp;quot;children&amp;quot;:[{&amp;quot;props&amp;quot;:{&amp;quot;setInnerHtml&amp;quot;:&amp;quot;&amp;lt;img src=&amp;#39;data:image/png;base64,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&amp;#39;&amp;gt;&amp;lt;/img&amp;gt;&amp;quot;},&amp;quot;nodeType&amp;quot;:&amp;quot;DOM&amp;quot;,&amp;quot;type&amp;quot;:&amp;quot;node&amp;quot;,&amp;quot;instanceArgs&amp;quot;:{&amp;quot;namespace&amp;quot;:&amp;quot;html&amp;quot;,&amp;quot;tag&amp;quot;:&amp;quot;div&amp;quot;},&amp;quot;children&amp;quot;:[]}]})&lt;/unsafe-script&gt;&quot;},&quot;nodeType&quot;:&quot;DOM&quot;,&quot;type&quot;:&quot;node&quot;,&quot;instanceArgs&quot;:{&quot;namespace&quot;:&quot;html&quot;,&quot;tag&quot;:&quot;div&quot;},&quot;children&quot;:[]}]}]})</unsafe-script>"
      ],
      "text/plain": [
       "Node{WebIO.DOM}(WebIO.DOM(:html, :div), Any[Node{DOM}(DOM(:html, :div), Any[Scope(\"knockout-component-a265fd17-4aca-4b8f-b86d-9fb1e88c6283\", Node{DOM}(DOM(:html, :div), Any[Node{DOM}(DOM(:html, :div), Any[Node{DOM}(DOM(:html, :label), Any[\"frame_index\"], Dict{Symbol,Any}(:className=>\"interact \",:style=>Dict{Any,Any}(:padding=>\"5px 10px 0px 10px\")), 1)], Dict{Symbol,Any}(:className=>\"interact-flex-row-left\"), 2), Node{DOM}(DOM(:html, :div), Any[Node{DOM}(DOM(:html, :input), Any[], Dict{Symbol,Any}(:max=>101,:min=>1,:attributes=>Dict{Any,Any}(:type=>\"range\",Symbol(\"data-bind\")=>\"value: indexString, valueUpdate: 'input', event: {change: function (){this.changes(this.changes()+1)}}\",\"orient\"=>\"horizontal\"),:step=>1,:className=>\"slider slider is-fullwidth\",:style=>Dict{Any,Any}()), 0)], Dict{Symbol,Any}(:className=>\"interact-flex-row-center\"), 1), Node{DOM}(DOM(:html, :div), Any[Node{DOM}(DOM(:html, :p), Any[], Dict{Symbol,Any}(:attributes=>Dict(\"data-bind\"=>\"text: formatted_val\")), 0)], Dict{Symbol,Any}(:className=>\"interact-flex-row-right\"), 1)], Dict{Symbol,Any}(:className=>\"interact-flex-row interact-widget\"), 7), Dict{String,Tuple{Observables.AbstractObservable,Union{Nothing, Bool}}}(\"changes\"=>(Observable{Int64} with 1 listeners. Value:\n",
       "0, nothing),\"indexString\"=>(Observable{String} with 1 listeners. Value:\n",
       "\"51\", nothing),\"index\"=>(Observable{Int64} with 2 listeners. Value:\n",
       "51, nothing)), Set(String[]), nothing, Any[\"knockout\"=>\"C:\\\\Users\\\\Maxime\\\\.julia\\\\packages\\\\Knockout\\\\JE2Yq\\\\src\\\\..\\\\assets\\\\knockout.js\", \"knockout_punches\"=>\"C:\\\\Users\\\\Maxime\\\\.julia\\\\packages\\\\Knockout\\\\JE2Yq\\\\src\\\\..\\\\assets\\\\knockout_punches.js\", \"C:\\\\Users\\\\Maxime\\\\.julia\\\\packages\\\\InteractBase\\\\jyXKw\\\\src\\\\..\\\\assets\\\\all.js\", \"C:\\\\Users\\\\Maxime\\\\.julia\\\\packages\\\\InteractBase\\\\jyXKw\\\\src\\\\..\\\\assets\\\\style.css\", \"C:\\\\Users\\\\Maxime\\\\.julia\\\\packages\\\\Interact\\\\Fs3lV\\\\src\\\\..\\\\assets\\\\bulma_confined.min.css\"], Dict{Any,Any}(\"_promises\"=>Dict{Any,Any}(\"importsLoaded\"=>Any[JSString(\"function (ko, koPunches) {\\n    ko.punches.enableAll();\\n    ko.bindingHandlers.numericValue = {\\n        init : function(element, valueAccessor, allBindings, data, context) {\\n            var stringified = ko.observable(ko.unwrap(valueAccessor()));\\n            stringified.subscribe(function(value) {\\n                var val = parseFloat(value);\\n                if (!isNaN(val)) {\\n                    valueAccessor()(val);\\n                }\\n            })\\n            valueAccessor().subscribe(function(value) {\\n                var str = JSON.stringify(value);\\n                if ((str == \\\"0\\\") && ([\\\"-0\\\", \\\"-0.\\\"].indexOf(stringified()) >= 0))\\n                     return;\\n                 if ([\\\"null\\\", \\\"\\\"].indexOf(str) >= 0)\\n                     return;\\n                stringified(str);\\n            })\\n            ko.applyBindingsToNode(element, { value: stringified, valueUpdate: allBindings.get('valueUpdate')}, context);\\n        }\\n    };\\n    var json_data = {\\\"formatted_vals\\\":[\\\"1\\\",\\\"2\\\",\\\"3\\\",\\\"4\\\",\\\"5\\\",\\\"6\\\",\\\"7\\\",\\\"8\\\",\\\"9\\\",\\\"10\\\",\\\"11\\\",\\\"12\\\",\\\"13\\\",\\\"14\\\",\\\"15\\\",\\\"16\\\",\\\"17\\\",\\\"18\\\",\\\"19\\\",\\\"20\\\",\\\"21\\\",\\\"22\\\",\\\"23\\\",\\\"24\\\",\\\"25\\\",\\\"26\\\",\\\"27\\\",\\\"28\\\",\\\"29\\\",\\\"30\\\",\\\"31\\\",\\\"32\\\",\\\"33\\\",\\\"34\\\",\\\"35\\\",\\\"36\\\",\\\"37\\\",\\\"38\\\",\\\"39\\\",\\\"40\\\",\\\"41\\\",\\\"42\\\",\\\"43\\\",\\\"44\\\",\\\"45\\\",\\\"46\\\",\\\"47\\\",\\\"48\\\",\\\"49\\\",\\\"50\\\",\\\"51\\\",\\\"52\\\",\\\"53\\\",\\\"54\\\",\\\"55\\\",\\\"56\\\",\\\"57\\\",\\\"58\\\",\\\"59\\\",\\\"60\\\",\\\"61\\\",\\\"62\\\",\\\"63\\\",\\\"64\\\",\\\"65\\\",\\\"66\\\",\\\"67\\\",\\\"68\\\",\\\"69\\\",\\\"70\\\",\\\"71\\\",\\\"72\\\",\\\"73\\\",\\\"74\\\",\\\"75\\\",\\\"76\\\",\\\"77\\\",\\\"78\\\",\\\"79\\\",\\\"80\\\",\\\"81\\\",\\\"82\\\",\\\"83\\\",\\\"84\\\",\\\"85\\\",\\\"86\\\",\\\"87\\\",\\\"88\\\",\\\"89\\\",\\\"90\\\",\\\"91\\\",\\\"92\\\",\\\"93\\\",\\\"94\\\",\\\"95\\\",\\\"96\\\",\\\"97\\\",\\\"98\\\",\\\"99\\\",\\\"100\\\",\\\"101\\\"],\\\"changes\\\":WebIO.getval({\\\"name\\\":\\\"changes\\\",\\\"scope\\\":\\\"knockout-component-a265fd17-4aca-4b8f-b86d-9fb1e88c6283\\\",\\\"id\\\":\\\"ob_09\\\",\\\"type\\\":\\\"observable\\\"}),\\\"indexString\\\":WebIO.getval({\\\"name\\\":\\\"indexString\\\",\\\"scope\\\":\\\"knockout-component-a265fd17-4aca-4b8f-b86d-9fb1e88c6283\\\",\\\"id\\\":\\\"ob_10\\\",\\\"type\\\":\\\"observable\\\"}),\\\"index\\\":WebIO.getval({\\\"name\\\":\\\"index\\\",\\\"scope\\\":\\\"knockout-component-a265fd17-4aca-4b8f-b86d-9fb1e88c6283\\\",\\\"id\\\":\\\"ob_08\\\",\\\"type\\\":\\\"observable\\\"})};\\n    var self = this;\\n    function AppViewModel() {\\n        for (var key in json_data) {\\n            var el = json_data[key];\\n            this[key] = Array.isArray(el) ? ko.observableArray(el) : ko.observable(el);\\n        }\\n        \\n        [this[\\\"formatted_val\\\"]=ko.computed(    function(){\\n        return this.formatted_vals()[parseInt(this.index())-1];\\n    }\\n,this)]\\n        [this[\\\"changes\\\"].subscribe((function (val){!(this.valueFromJulia[\\\"changes\\\"]) ? (WebIO.setval({\\\"name\\\":\\\"changes\\\",\\\"scope\\\":\\\"knockout-component-a265fd17-4aca-4b8f-b86d-9fb1e88c6283\\\",\\\"id\\\":\\\"ob_09\\\",\\\"type\\\":\\\"observable\\\"},val)) : undefined; return this.valueFromJulia[\\\"changes\\\"]=false}),self),this[\\\"indexString\\\"].subscribe((function (val){!(this.valueFromJulia[\\\"indexString\\\"]) ? (WebIO.setval({\\\"name\\\":\\\"indexString\\\",\\\"scope\\\":\\\"knockout-component-a265fd17-4aca-4b8f-b86d-9fb1e88c6283\\\",\\\"id\\\":\\\"ob_10\\\",\\\"type\\\":\\\"observable\\\"},val)) : undefined; return this.valueFromJulia[\\\"indexString\\\"]=false}),self),this[\\\"index\\\"].subscribe((function (val){!(this.valueFromJulia[\\\"index\\\"]) ? (WebIO.setval({\\\"name\\\":\\\"index\\\",\\\"scope\\\":\\\"knockout-component-a265fd17-4aca-4b8f-b86d-9fb1e88c6283\\\",\\\"id\\\":\\\"ob_08\\\",\\\"type\\\":\\\"observable\\\"},val)) : undefined; return this.valueFromJulia[\\\"index\\\"]=false}),self)]\\n                var obs = this.index;\\n    var obsString = this.indexString;\\n    obsString.subscribe(function(value) {\\n        var val = parseFloat(value);\\n        if (!isNaN(val)) {\\n            obs(val);\\n        }\\n    })\\n    obs.subscribe(function(value) {\\n        var str = JSON.stringify(value);\\n        if ((str == \\\"0\\\") && ([\\\"-0\\\", \\\"-0.\\\"].indexOf(obsString()) >= 0))\\n             return;\\n         if ([\\\"null\\\", \\\"\\\"].indexOf(str) >= 0)\\n             return;\\n        obsString(str);\\n    })\\n\\n    \\n\\n    }\\n    self.model = new AppViewModel();\\n    self.valueFromJulia = {};\\n    for (var key in json_data) {\\n        self.valueFromJulia[key] = false;\\n    }\\n    ko.applyBindings(self.model, self.dom);\\n}\\n\")]),\"changes\"=>Any[JSString(\"(function (val){return (val!=this.model[\\\"changes\\\"]()) ? (this.valueFromJulia[\\\"changes\\\"]=true, this.model[\\\"changes\\\"](val)) : undefined})\")],\"indexString\"=>Any[JSString(\"(function (val){return (val!=this.model[\\\"indexString\\\"]()) ? (this.valueFromJulia[\\\"indexString\\\"]=true, this.model[\\\"indexString\\\"](val)) : undefined})\")],\"index\"=>Any[JSString(\"(function (val){return (val!=this.model[\\\"index\\\"]()) ? (this.valueFromJulia[\\\"index\\\"]=true, this.model[\\\"index\\\"](val)) : undefined})\")]), ConnectionPool(Channel{Any}(sz_max:9223372036854775807,sz_curr:3), Set(AbstractConnection[]), Channel{AbstractConnection}(sz_max:32,sz_curr:0)))], Dict{Symbol,Any}(:className=>\"field interact-widget\"), 1), Observable{Any} with 0 listeners. Value:\n",
       "Node{DOM}(DOM(:html, :div), Any[CairoSurfaceBase{UInt32}(Ptr{Nothing} @0x000000001fba89d0, 1000.0, 600.0)], Dict{Symbol,Any}(:className=>\"interact-flex-row interact-widget\"), 1)], Dict{Symbol,Any}(), 2)"
      ]
     },
     "execution_count": 12,
     "metadata": {},
     "output_type": "execute_result"
    }
   ],
   "source": [
    "timestep = 0.1\n",
    "\n",
    "models = Dict{Int, DriverModel}()\n",
    "# constant speed model\n",
    "models[1] = InterDriver(LaneSpecificAccelLatLon(0.0,0.0))\n",
    "\n",
    "nticks = 100\n",
    "rec = SceneRecord(nticks+1, timestep)\n",
    "simulate!(rec, scene, roadway, models, nticks)\n",
    "\n",
    "# interactive visualization\n",
    "@manipulate for frame_index in 1 : nframes(rec)\n",
    "    render(rec[frame_index-nframes(rec)], roadway, cam=cam)\n",
    "end"
   ]
  },
  {
   "cell_type": "code",
   "execution_count": null,
   "metadata": {},
   "outputs": [],
   "source": []
  }
 ],
 "metadata": {
  "@webio": {
   "lastCommId": "279e9640f30f45cb831b7567eada59c3",
   "lastKernelId": "ce84778d-4d35-495a-b5c0-567cd0317b8f"
  },
  "kernelspec": {
   "display_name": "Julia 1.1.0",
   "language": "julia",
   "name": "julia-1.1"
  },
  "language_info": {
   "file_extension": ".jl",
   "mimetype": "application/julia",
   "name": "julia",
   "version": "1.1.0"
  }
 },
 "nbformat": 4,
 "nbformat_minor": 2
}
