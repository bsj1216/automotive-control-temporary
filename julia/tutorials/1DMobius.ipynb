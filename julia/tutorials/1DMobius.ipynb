{
 "cells": [
  {
   "cell_type": "markdown",
   "metadata": {},
   "source": [
    "# Driving on a Mobius Strip\n",
    "\n",
    "AutomotiveDrivingModels is templated to efficiently run different types of simulations.\n",
    "Entities are parameterized by their:\n",
    "\n",
    "- *S* state, which changes over time\n",
    "- *D* defintion, which does not change over time\n",
    "- *I* id, typically an `Int`, which uniquely identifies that entity.\n",
    "\n",
    "In addition to these types, the actions, environment and the driver models can also be parameterized.\n",
    "\n",
    "This notebook demonstrates a longitudinal driving simulation where cars drive on a single straight lane that loops back on itself.\n",
    "The types are:\n",
    "\n",
    "- *S* - `State1D`, containing the position and speed\n",
    "- *D* - `VehicleDef`, containing length, width, and class\n",
    "- *I* - `Int`\n",
    "\n",
    "We use a `StraightRoadway` as our environment and `LaneFollowingDriver`s that produce `LaneFollowingAccel`s.\n"
   ]
  },
  {
   "cell_type": "code",
   "execution_count": 1,
   "metadata": {},
   "outputs": [
    {
     "name": "stderr",
     "output_type": "stream",
     "text": [
      "┌ Info: Recompiling stale cache file C:\\Users\\Maxime\\.julia\\compiled\\v1.1\\AutomotiveDrivingModels\\ZEfHM.ji for AutomotiveDrivingModels [99497e54-f3d6-53d3-a3a9-fa9315a7f1ba]\n",
      "└ @ Base loading.jl:1184\n",
      "┌ Warning: The call to compilecache failed to create a usable precompiled cache file for AutomotiveDrivingModels [99497e54-f3d6-53d3-a3a9-fa9315a7f1ba]\n",
      "│   exception = ErrorException(\"Required dependency Distributions [31c24e10-a181-5473-b8eb-7969acd0382f] failed to load from a cache file.\")\n",
      "└ @ Base loading.jl:969\n",
      "┌ Info: Recompiling stale cache file C:\\Users\\Maxime\\.julia\\compiled\\v1.1\\AutoViz\\w0rHu.ji for AutoViz [82aa6e0c-a491-5edf-8d4b-c16b98e4ea17]\n",
      "└ @ Base loading.jl:1184\n",
      "┌ Warning: Module AutomotiveDrivingModels with build ID 614701268831930 is missing from the cache.\n",
      "│ This may mean AutomotiveDrivingModels [99497e54-f3d6-53d3-a3a9-fa9315a7f1ba] does not support precompilation but is imported by a module that does.\n",
      "└ @ Base loading.jl:947\n",
      "┌ Info: Recompiling stale cache file C:\\Users\\Maxime\\.julia\\compiled\\v1.1\\Cairo\\l6vnT.ji for Cairo [159f3aea-2a34-519c-b102-8c37f9878175]\n",
      "└ @ Base loading.jl:1184\n"
     ]
    }
   ],
   "source": [
    "using AutomotiveDrivingModels\n",
    "using AutoViz"
   ]
  },
  {
   "cell_type": "code",
   "execution_count": 2,
   "metadata": {},
   "outputs": [
    {
     "data": {
      "image/png": "[encoded data removed]",
      "text/plain": [
       "Cairo.CairoSurfaceBase{UInt32}(Ptr{Nothing} @0x0000000020c4ca70, 1000.0, 100.0)"
      ]
     },
     "execution_count": 2,
     "metadata": {},
     "output_type": "execute_result"
    }
   ],
   "source": [
    "road_length = 200.0 # [meters]\n",
    "roadway = StraightRoadway(road_length)\n",
    "\n",
    "scene = Scene1D()\n",
    "push!(scene, Entity(State1D(10.0,  8.0), VehicleDef(), 1))\n",
    "push!(scene, Entity(State1D(50.0, 12.5), VehicleDef(), 2))\n",
    "push!(scene, Entity(State1D(150.0, 6.0), VehicleDef(), 3))\n",
    "\n",
    "cam = StaticCamera(VecE2(100.0,0.0), 4.75)\n",
    "render(scene, roadway, cam=cam, canvas_height=100)"
   ]
  },
  {
   "cell_type": "markdown",
   "metadata": {},
   "source": [
    "We can add an overlay that displays the car id for convenience:"
   ]
  },
  {
   "cell_type": "code",
   "execution_count": 3,
   "metadata": {},
   "outputs": [
    {
     "data": {
      "image/png": "[encoded data removed]",
      "text/plain": [
       "Cairo.CairoSurfaceBase{UInt32}(Ptr{Nothing} @0x0000000020c4cc00, 1000.0, 100.0)"
      ]
     },
     "execution_count": 3,
     "metadata": {},
     "output_type": "execute_result"
    }
   ],
   "source": [
    "overlays = [TextOverlay(text=[\"$(veh.id)\"], incameraframe=true, pos=VecE2(veh.state.s-0.7, 3)) for veh in scene]\n",
    "render(scene, roadway, overlays, cam=cam, canvas_height=100)"
   ]
  },
  {
   "cell_type": "markdown",
   "metadata": {},
   "source": [
    "Or we can create a new `SceneOverlay` which does this for us:"
   ]
  },
  {
   "cell_type": "code",
   "execution_count": 4,
   "metadata": {},
   "outputs": [
    {
     "data": {
      "image/png": "[encoded data removed]",
      "text/plain": [
       "Cairo.CairoSurfaceBase{UInt32}(Ptr{Nothing} @0x0000000020c4d6f0, 1000.0, 100.0)"
      ]
     },
     "execution_count": 4,
     "metadata": {},
     "output_type": "execute_result"
    }
   ],
   "source": [
    "using Parameters\n",
    "@with_kw struct CarIDOverlay <: SceneOverlay\n",
    "    textparams::TextParams=TextParams()\n",
    "end\n",
    "function AutoViz.render!(rendermodel::RenderModel, overlay::CarIDOverlay, scene::Scene1D, roadway::StraightRoadway)\n",
    "    for veh in scene\n",
    "        x = veh.state.s - 0.7\n",
    "        y = 3.0\n",
    "        text = string(veh.id)\n",
    "        add_instruction!(rendermodel, render_text, (text, x, y, overlay.textparams.size, overlay.textparams.color), incameraframe=true)\n",
    "    end\n",
    "    return rendermodel\n",
    "end\n",
    "\n",
    "render(scene, roadway, [CarIDOverlay()], cam=cam, canvas_height=100)"
   ]
  },
  {
   "cell_type": "markdown",
   "metadata": {},
   "source": [
    "To run a simulation we need driving models that produce actions.\n",
    "For this we will use `LaneFollowingDriver`s that produce `LaneFollowingAccel`s.\n",
    "We will give each car a different model, as a demonstration."
   ]
  },
  {
   "cell_type": "code",
   "execution_count": 5,
   "metadata": {},
   "outputs": [
    {
     "data": {
      "image/png": "[encoded data removed]",
      "text/plain": [
       "Cairo.CairoSurfaceBase{UInt32}(Ptr{Nothing} @0x0000000020c4bc60, 1000.0, 100.0)"
      ]
     },
     "execution_count": 5,
     "metadata": {},
     "output_type": "execute_result"
    }
   ],
   "source": [
    "models = Dict{Int, LaneFollowingDriver}()\n",
    "models[1] = StaticLaneFollowingDriver(0.0) # always produce zero acceleration\n",
    "models[2] = IntelligentDriverModel(v_des=12.0) # default IDM with a desired speed of 12 m/s\n",
    "models[3] = PrincetonDriver(v_des = 10.0) # default Princeton driver with a desired speed of 10m/s\n",
    "\n",
    "nticks = 100\n",
    "timestep = 0.1\n",
    "rec = QueueRecord(Vehicle1D, nticks+1, timestep)\n",
    "simulate!(LaneFollowingAccel, rec, scene, roadway, models, nticks)\n",
    "render(rec[0], roadway, [CarIDOverlay()], cam=cam, canvas_height=100)"
   ]
  },
  {
   "cell_type": "markdown",
   "metadata": {},
   "source": [
    "We can use Interact to inspect the simulation."
   ]
  },
  {
   "cell_type": "code",
   "execution_count": 6,
   "metadata": {},
   "outputs": [
    {
     "name": "stderr",
     "output_type": "stream",
     "text": [
      "┌ Info: Recompiling stale cache file C:\\Users\\Maxime\\.julia\\compiled\\v1.1\\Interact\\XmYW4.ji for Interact [c601a237-2ae4-5e1e-952c-7a85b0c7eef1]\n",
      "└ @ Base loading.jl:1184\n",
      "┌ Warning: The call to compilecache failed to create a usable precompiled cache file for CSSUtil [70588ee8-6100-5070-97c1-3cb50ed05fe8]\n",
      "│   exception = Required dependency WebIO [0f1e0344-ec1d-5b48-a673-e5cf874b6c29] failed to load from a cache file.\n",
      "└ @ Base loading.jl:969\n",
      "┌ Warning: Module WebIO with build ID 614782226586775 is missing from the cache.\n",
      "│ This may mean WebIO [0f1e0344-ec1d-5b48-a673-e5cf874b6c29] does not support precompilation but is imported by a module that does.\n",
      "└ @ Base loading.jl:947\n",
      "┌ Warning: Module WebIO with build ID 614782226586775 is missing from the cache.\n",
      "│ This may mean WebIO [0f1e0344-ec1d-5b48-a673-e5cf874b6c29] does not support precompilation but is imported by a module that does.\n",
      "└ @ Base loading.jl:947\n",
      "┌ Warning: The call to compilecache failed to create a usable precompiled cache file for InteractBase [d3863d7c-f0c8-5437-a7b4-3ae773c01009]\n",
      "│   exception = Required dependency WebIO [0f1e0344-ec1d-5b48-a673-e5cf874b6c29] failed to load from a cache file.\n",
      "└ @ Base loading.jl:969\n"
     ]
    },
    {
     "data": {
      "text/html": [
       "    <script class='js-collapse-script'>\n",
       "        var curMatch =\n",
       "            window.location.href\n",
       "            .match(/(.*?)\\/notebooks\\/.*\\.ipynb/);\n",
       "\n",
       "        curMatch = curMatch ||\n",
       "            window.location.href\n",
       "            .match(/(.*?)\\/apps\\/.*\\.ipynb/);\n",
       "\n",
       "        if ( curMatch ) {\n",
       "            $('head').append('<base href=\"' + curMatch[1] + '/\">');\n",
       "        }\n",
       "    </script>\n"
      ],
      "text/plain": [
       "HTML{String}(\"    <script class='js-collapse-script'>\\n        var curMatch =\\n            window.location.href\\n            .match(/(.*?)\\\\/notebooks\\\\/.*\\\\.ipynb/);\\n\\n        curMatch = curMatch ||\\n            window.location.href\\n            .match(/(.*?)\\\\/apps\\\\/.*\\\\.ipynb/);\\n\\n        if ( curMatch ) {\\n            \\$('head').append('<base href=\\\"' + curMatch[1] + '/\\\">');\\n        }\\n    </script>\\n\")"
      ]
     },
     "metadata": {},
     "output_type": "display_data"
    },
    {
     "data": {
      "text/html": [
       "<script class='js-collapse-script' src='/assetserver/468e3c5cbff4bba2f7f3ca28e0afa7cac8df1be0-assets/webio/dist/bundle.js'></script>"
      ],
      "text/plain": [
       "HTML{String}(\"<script class='js-collapse-script' src='/assetserver/468e3c5cbff4bba2f7f3ca28e0afa7cac8df1be0-assets/webio/dist/bundle.js'></script>\")"
      ]
     },
     "metadata": {},
     "output_type": "display_data"
    },
    {
     "data": {
      "text/html": [
       "<script class='js-collapse-script' src='/assetserver/468e3c5cbff4bba2f7f3ca28e0afa7cac8df1be0-assets/providers/ijulia_setup.js'></script>"
      ],
      "text/plain": [
       "HTML{String}(\"<script class='js-collapse-script' src='/assetserver/468e3c5cbff4bba2f7f3ca28e0afa7cac8df1be0-assets/providers/ijulia_setup.js'></script>\")"
      ]
     },
     "metadata": {},
     "output_type": "display_data"
    },
    {
     "data": {
      "text/html": [
       "  <script class='js-collapse-script'>\n",
       "    $('.js-collapse-script').parent('.output_subarea').css('padding', '0');\n",
       "  </script>\n"
      ],
      "text/plain": [
       "HTML{String}(\"  <script class='js-collapse-script'>\\n    \\$('.js-collapse-script').parent('.output_subarea').css('padding', '0');\\n  </script>\\n\")"
      ]
     },
     "metadata": {},
     "output_type": "display_data"
    },
    {
     "data": {
      "text/html": [
       "<div class='display:none'></div><unsafe-script style='display:none'>\n",
       "WebIO.mount(this.previousSibling,{&quot;props&quot;:{},&quot;nodeType&quot;:&quot;DOM&quot;,&quot;type&quot;:&quot;node&quot;,&quot;instanceArgs&quot;:{&quot;namespace&quot;:&quot;html&quot;,&quot;tag&quot;:&quot;div&quot;},&quot;children&quot;:[{&quot;props&quot;:{&quot;className&quot;:&quot;field interact-widget&quot;},&quot;nodeType&quot;:&quot;DOM&quot;,&quot;type&quot;:&quot;node&quot;,&quot;instanceArgs&quot;:{&quot;namespace&quot;:&quot;html&quot;,&quot;tag&quot;:&quot;div&quot;},&quot;children&quot;:[{&quot;props&quot;:{},&quot;nodeType&quot;:&quot;Scope&quot;,&quot;type&quot;:&quot;node&quot;,&quot;instanceArgs&quot;:{&quot;imports&quot;:{&quot;data&quot;:[{&quot;name&quot;:&quot;knockout&quot;,&quot;type&quot;:&quot;js&quot;,&quot;url&quot;:&quot;/assetserver/3eba94e42381e338b63445bb6165a6b74dfff7fe-knockout.js&quot;},{&quot;name&quot;:&quot;knockout_punches&quot;,&quot;type&quot;:&quot;js&quot;,&quot;url&quot;:&quot;/assetserver/0b60b3bed0558f340d8f36b2e588fc19a5331e53-knockout_punches.js&quot;},{&quot;name&quot;:null,&quot;type&quot;:&quot;js&quot;,&quot;url&quot;:&quot;/assetserver/e375b04ed295e371b269e6282dd0ece1d8f25f7c-all.js&quot;},{&quot;name&quot;:null,&quot;type&quot;:&quot;css&quot;,&quot;url&quot;:&quot;/assetserver/74ab3fe28fdc96d2cdde1dc9103cd558bf15dd78-style.css&quot;},{&quot;name&quot;:null,&quot;type&quot;:&quot;css&quot;,&quot;url&quot;:&quot;/assetserver/2b9bd1a7f1fd27241339301563046b45b31a5a73-bulma_confined.min.css&quot;}],&quot;type&quot;:&quot;async_block&quot;},&quot;id&quot;:&quot;knockout-component-3a4089d5-9c0b-4915-ad77-f71390a7746e&quot;,&quot;handlers&quot;:{&quot;_promises&quot;:{&quot;importsLoaded&quot;:[function (ko, koPunches) {\n",
       "    ko.punches.enableAll();\n",
       "    ko.bindingHandlers.numericValue = {\n",
       "        init : function(element, valueAccessor, allBindings, data, context) {\n",
       "            var stringified = ko.observable(ko.unwrap(valueAccessor()));\n",
       "            stringified.subscribe(function(value) {\n",
       "                var val = parseFloat(value);\n",
       "                if (!isNaN(val)) {\n",
       "                    valueAccessor()(val);\n",
       "                }\n",
       "            })\n",
       "            valueAccessor().subscribe(function(value) {\n",
       "                var str = JSON.stringify(value);\n",
       "                if ((str == &quot;0&quot;) &amp;&amp; ([&quot;-0&quot;, &quot;-0.&quot;].indexOf(stringified()) &gt;= 0))\n",
       "                     return;\n",
       "                 if ([&quot;null&quot;, &quot;&quot;].indexOf(str) &gt;= 0)\n",
       "                     return;\n",
       "                stringified(str);\n",
       "            })\n",
       "            ko.applyBindingsToNode(element, { value: stringified, valueUpdate: allBindings.get(&#39;valueUpdate&#39;)}, context);\n",
       "        }\n",
       "    };\n",
       "    var json_data = {&quot;formatted_vals&quot;:[&quot;1&quot;,&quot;2&quot;,&quot;3&quot;,&quot;4&quot;,&quot;5&quot;,&quot;6&quot;,&quot;7&quot;,&quot;8&quot;,&quot;9&quot;,&quot;10&quot;,&quot;11&quot;,&quot;12&quot;,&quot;13&quot;,&quot;14&quot;,&quot;15&quot;,&quot;16&quot;,&quot;17&quot;,&quot;18&quot;,&quot;19&quot;,&quot;20&quot;,&quot;21&quot;,&quot;22&quot;,&quot;23&quot;,&quot;24&quot;,&quot;25&quot;,&quot;26&quot;,&quot;27&quot;,&quot;28&quot;,&quot;29&quot;,&quot;30&quot;,&quot;31&quot;,&quot;32&quot;,&quot;33&quot;,&quot;34&quot;,&quot;35&quot;,&quot;36&quot;,&quot;37&quot;,&quot;38&quot;,&quot;39&quot;,&quot;40&quot;,&quot;41&quot;,&quot;42&quot;,&quot;43&quot;,&quot;44&quot;,&quot;45&quot;,&quot;46&quot;,&quot;47&quot;,&quot;48&quot;,&quot;49&quot;,&quot;50&quot;,&quot;51&quot;,&quot;52&quot;,&quot;53&quot;,&quot;54&quot;,&quot;55&quot;,&quot;56&quot;,&quot;57&quot;,&quot;58&quot;,&quot;59&quot;,&quot;60&quot;,&quot;61&quot;,&quot;62&quot;,&quot;63&quot;,&quot;64&quot;,&quot;65&quot;,&quot;66&quot;,&quot;67&quot;,&quot;68&quot;,&quot;69&quot;,&quot;70&quot;,&quot;71&quot;,&quot;72&quot;,&quot;73&quot;,&quot;74&quot;,&quot;75&quot;,&quot;76&quot;,&quot;77&quot;,&quot;78&quot;,&quot;79&quot;,&quot;80&quot;,&quot;81&quot;,&quot;82&quot;,&quot;83&quot;,&quot;84&quot;,&quot;85&quot;,&quot;86&quot;,&quot;87&quot;,&quot;88&quot;,&quot;89&quot;,&quot;90&quot;,&quot;91&quot;,&quot;92&quot;,&quot;93&quot;,&quot;94&quot;,&quot;95&quot;,&quot;96&quot;,&quot;97&quot;,&quot;98&quot;,&quot;99&quot;,&quot;100&quot;,&quot;101&quot;],&quot;changes&quot;:WebIO.getval({&quot;name&quot;:&quot;changes&quot;,&quot;scope&quot;:&quot;knockout-component-3a4089d5-9c0b-4915-ad77-f71390a7746e&quot;,&quot;id&quot;:&quot;ob_02&quot;,&quot;type&quot;:&quot;observable&quot;}),&quot;indexString&quot;:WebIO.getval({&quot;name&quot;:&quot;indexString&quot;,&quot;scope&quot;:&quot;knockout-component-3a4089d5-9c0b-4915-ad77-f71390a7746e&quot;,&quot;id&quot;:&quot;ob_03&quot;,&quot;type&quot;:&quot;observable&quot;}),&quot;index&quot;:WebIO.getval({&quot;name&quot;:&quot;index&quot;,&quot;scope&quot;:&quot;knockout-component-3a4089d5-9c0b-4915-ad77-f71390a7746e&quot;,&quot;id&quot;:&quot;ob_01&quot;,&quot;type&quot;:&quot;observable&quot;})};\n",
       "    var self = this;\n",
       "    function AppViewModel() {\n",
       "        for (var key in json_data) {\n",
       "            var el = json_data[key];\n",
       "            this[key] = Array.isArray(el) ? ko.observableArray(el) : ko.observable(el);\n",
       "        }\n",
       "        \n",
       "        [this[&quot;formatted_val&quot;]=ko.computed(    function(){\n",
       "        return this.formatted_vals()[parseInt(this.index())-1];\n",
       "    }\n",
       ",this)]\n",
       "        [this[&quot;changes&quot;].subscribe((function (val){!(this.valueFromJulia[&quot;changes&quot;]) ? (WebIO.setval({&quot;name&quot;:&quot;changes&quot;,&quot;scope&quot;:&quot;knockout-component-3a4089d5-9c0b-4915-ad77-f71390a7746e&quot;,&quot;id&quot;:&quot;ob_02&quot;,&quot;type&quot;:&quot;observable&quot;},val)) : undefined; return this.valueFromJulia[&quot;changes&quot;]=false}),self),this[&quot;indexString&quot;].subscribe((function (val){!(this.valueFromJulia[&quot;indexString&quot;]) ? (WebIO.setval({&quot;name&quot;:&quot;indexString&quot;,&quot;scope&quot;:&quot;knockout-component-3a4089d5-9c0b-4915-ad77-f71390a7746e&quot;,&quot;id&quot;:&quot;ob_03&quot;,&quot;type&quot;:&quot;observable&quot;},val)) : undefined; return this.valueFromJulia[&quot;indexString&quot;]=false}),self),this[&quot;index&quot;].subscribe((function (val){!(this.valueFromJulia[&quot;index&quot;]) ? (WebIO.setval({&quot;name&quot;:&quot;index&quot;,&quot;scope&quot;:&quot;knockout-component-3a4089d5-9c0b-4915-ad77-f71390a7746e&quot;,&quot;id&quot;:&quot;ob_01&quot;,&quot;type&quot;:&quot;observable&quot;},val)) : undefined; return this.valueFromJulia[&quot;index&quot;]=false}),self)]\n",
       "                var obs = this.index;\n",
       "    var obsString = this.indexString;\n",
       "    obsString.subscribe(function(value) {\n",
       "        var val = parseFloat(value);\n",
       "        if (!isNaN(val)) {\n",
       "            obs(val);\n",
       "        }\n",
       "    })\n",
       "    obs.subscribe(function(value) {\n",
       "        var str = JSON.stringify(value);\n",
       "        if ((str == &quot;0&quot;) &amp;&amp; ([&quot;-0&quot;, &quot;-0.&quot;].indexOf(obsString()) &gt;= 0))\n",
       "             return;\n",
       "         if ([&quot;null&quot;, &quot;&quot;].indexOf(str) &gt;= 0)\n",
       "             return;\n",
       "        obsString(str);\n",
       "    })\n",
       "\n",
       "    \n",
       "\n",
       "    }\n",
       "    self.model = new AppViewModel();\n",
       "    self.valueFromJulia = {};\n",
       "    for (var key in json_data) {\n",
       "        self.valueFromJulia[key] = false;\n",
       "    }\n",
       "    ko.applyBindings(self.model, self.dom);\n",
       "}\n",
       "]},&quot;changes&quot;:[(function (val){return (val!=this.model[&quot;changes&quot;]()) ? (this.valueFromJulia[&quot;changes&quot;]=true, this.model[&quot;changes&quot;](val)) : undefined})],&quot;indexString&quot;:[(function (val){return (val!=this.model[&quot;indexString&quot;]()) ? (this.valueFromJulia[&quot;indexString&quot;]=true, this.model[&quot;indexString&quot;](val)) : undefined})],&quot;index&quot;:[(function (val){return (val!=this.model[&quot;index&quot;]()) ? (this.valueFromJulia[&quot;index&quot;]=true, this.model[&quot;index&quot;](val)) : undefined})]},&quot;systemjs_options&quot;:null,&quot;observables&quot;:{&quot;changes&quot;:{&quot;sync&quot;:false,&quot;id&quot;:&quot;ob_02&quot;,&quot;value&quot;:0},&quot;indexString&quot;:{&quot;sync&quot;:false,&quot;id&quot;:&quot;ob_03&quot;,&quot;value&quot;:&quot;51&quot;},&quot;index&quot;:{&quot;sync&quot;:true,&quot;id&quot;:&quot;ob_01&quot;,&quot;value&quot;:51}}},&quot;children&quot;:[{&quot;props&quot;:{&quot;className&quot;:&quot;interact-flex-row interact-widget&quot;},&quot;nodeType&quot;:&quot;DOM&quot;,&quot;type&quot;:&quot;node&quot;,&quot;instanceArgs&quot;:{&quot;namespace&quot;:&quot;html&quot;,&quot;tag&quot;:&quot;div&quot;},&quot;children&quot;:[{&quot;props&quot;:{&quot;className&quot;:&quot;interact-flex-row-left&quot;},&quot;nodeType&quot;:&quot;DOM&quot;,&quot;type&quot;:&quot;node&quot;,&quot;instanceArgs&quot;:{&quot;namespace&quot;:&quot;html&quot;,&quot;tag&quot;:&quot;div&quot;},&quot;children&quot;:[{&quot;props&quot;:{&quot;className&quot;:&quot;interact &quot;,&quot;style&quot;:{&quot;padding&quot;:&quot;5px 10px 0px 10px&quot;}},&quot;nodeType&quot;:&quot;DOM&quot;,&quot;type&quot;:&quot;node&quot;,&quot;instanceArgs&quot;:{&quot;namespace&quot;:&quot;html&quot;,&quot;tag&quot;:&quot;label&quot;},&quot;children&quot;:[&quot;frame_index&quot;]}]},{&quot;props&quot;:{&quot;className&quot;:&quot;interact-flex-row-center&quot;},&quot;nodeType&quot;:&quot;DOM&quot;,&quot;type&quot;:&quot;node&quot;,&quot;instanceArgs&quot;:{&quot;namespace&quot;:&quot;html&quot;,&quot;tag&quot;:&quot;div&quot;},&quot;children&quot;:[{&quot;props&quot;:{&quot;max&quot;:101,&quot;min&quot;:1,&quot;attributes&quot;:{&quot;type&quot;:&quot;range&quot;,&quot;data-bind&quot;:&quot;value: indexString, valueUpdate: &#39;input&#39;, event: {change: function (){this.changes(this.changes()+1)}}&quot;,&quot;orient&quot;:&quot;horizontal&quot;},&quot;step&quot;:1,&quot;className&quot;:&quot;slider slider is-fullwidth&quot;,&quot;style&quot;:{}},&quot;nodeType&quot;:&quot;DOM&quot;,&quot;type&quot;:&quot;node&quot;,&quot;instanceArgs&quot;:{&quot;namespace&quot;:&quot;html&quot;,&quot;tag&quot;:&quot;input&quot;},&quot;children&quot;:[]}]},{&quot;props&quot;:{&quot;className&quot;:&quot;interact-flex-row-right&quot;},&quot;nodeType&quot;:&quot;DOM&quot;,&quot;type&quot;:&quot;node&quot;,&quot;instanceArgs&quot;:{&quot;namespace&quot;:&quot;html&quot;,&quot;tag&quot;:&quot;div&quot;},&quot;children&quot;:[{&quot;props&quot;:{&quot;attributes&quot;:{&quot;data-bind&quot;:&quot;text: formatted_val&quot;}},&quot;nodeType&quot;:&quot;DOM&quot;,&quot;type&quot;:&quot;node&quot;,&quot;instanceArgs&quot;:{&quot;namespace&quot;:&quot;html&quot;,&quot;tag&quot;:&quot;p&quot;},&quot;children&quot;:[]}]}]}]}]},{&quot;props&quot;:{},&quot;nodeType&quot;:&quot;Scope&quot;,&quot;type&quot;:&quot;node&quot;,&quot;instanceArgs&quot;:{&quot;imports&quot;:{&quot;data&quot;:[],&quot;type&quot;:&quot;async_block&quot;},&quot;id&quot;:&quot;scope-2485f7e2-9882-4c10-a16c-b044de8d4a90&quot;,&quot;handlers&quot;:{&quot;obs-output&quot;:[function (updated_htmlstr) {\n",
       "    var el = this.dom.querySelector(&quot;#out&quot;);\n",
       "    WebIO.propUtils.setInnerHtml(el, updated_htmlstr);\n",
       "}]},&quot;systemjs_options&quot;:null,&quot;observables&quot;:{&quot;obs-output&quot;:{&quot;sync&quot;:false,&quot;id&quot;:&quot;ob_07&quot;,&quot;value&quot;:&quot;&lt;div class=&#39;display:none&#39;&gt;&lt;/div&gt;&lt;unsafe-script style=&#39;display:none&#39;&gt;\\nWebIO.mount(this.previousSibling,{&amp;quot;props&amp;quot;:{&amp;quot;className&amp;quot;:&amp;quot;interact-flex-row interact-widget&amp;quot;},&amp;quot;nodeType&amp;quot;:&amp;quot;DOM&amp;quot;,&amp;quot;type&amp;quot;:&amp;quot;node&amp;quot;,&amp;quot;instanceArgs&amp;quot;:{&amp;quot;namespace&amp;quot;:&amp;quot;html&amp;quot;,&amp;quot;tag&amp;quot;:&amp;quot;div&amp;quot;},&amp;quot;children&amp;quot;:[{&amp;quot;props&amp;quot;:{&amp;quot;setInnerHtml&amp;quot;:&amp;quot;&amp;lt;img src=&amp;#39;data:image/png;base64,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&amp;#39;&amp;gt;&amp;lt;/img&amp;gt;&amp;quot;},&amp;quot;nodeType&amp;quot;:&amp;quot;DOM&amp;quot;,&amp;quot;type&amp;quot;:&amp;quot;node&amp;quot;,&amp;quot;instanceArgs&amp;quot;:{&amp;quot;namespace&amp;quot;:&amp;quot;html&amp;quot;,&amp;quot;tag&amp;quot;:&amp;quot;div&amp;quot;},&amp;quot;children&amp;quot;:[]}]})&lt;/unsafe-script&gt;&quot;}}},&quot;children&quot;:[{&quot;props&quot;:{&quot;id&quot;:&quot;out&quot;,&quot;setInnerHtml&quot;:&quot;&lt;div class=&#39;display:none&#39;&gt;&lt;/div&gt;&lt;unsafe-script style=&#39;display:none&#39;&gt;\\nWebIO.mount(this.previousSibling,{&amp;quot;props&amp;quot;:{&amp;quot;className&amp;quot;:&amp;quot;interact-flex-row interact-widget&amp;quot;},&amp;quot;nodeType&amp;quot;:&amp;quot;DOM&amp;quot;,&amp;quot;type&amp;quot;:&amp;quot;node&amp;quot;,&amp;quot;instanceArgs&amp;quot;:{&amp;quot;namespace&amp;quot;:&amp;quot;html&amp;quot;,&amp;quot;tag&amp;quot;:&amp;quot;div&amp;quot;},&amp;quot;children&amp;quot;:[{&amp;quot;props&amp;quot;:{&amp;quot;setInnerHtml&amp;quot;:&amp;quot;&amp;lt;img src=&amp;#39;data:image/png;base64,iVBORw0KGgoAAAANSUhEUgAAA+gAAABkCAIAAACaW42NAAAABmJLR0QA/wD/AP+gvaeTAAAFvElEQVR4nO3cb2xVdxkH8Oece6HNoKWIlA78N9aaMcGOLRbikmmMGLqZOKOLbgmLMfHfC1Pma11M8M1eie+siYnZnKLGqPHPljg1Lusic4ZigQ6ZW6Jkg3WTdmNA2917fAEz99Jbeu24PXDv5/Oq/d1zkm9fnN/z9JznnggAAAAAAAAAAAAAAAAAAAAAAAAAAAAAAAAAAAAAAAAAAAAAAAAAAAAAAAAAAAAAAAAAAAAAAAAAAAAAAAAAAAAAAAAAAAAAAAAAAAAAAAAALqF3aCQbHsw7BVyVeodGsgtcRUCjDA7baYD/7QU2AliEweFsZKg3Is538G/+DHAZVdxfc6sNWtfgcJZlI0ODtgFYlMHhykun+jeABtC5Q6uzC8BlUHH3HaAxVGxoebYBeKsMygANduEbNXYaaHEad3hLBofVUmCJtNzDvTTvAAA0i96hkex3cXty63eezTsK0Aoe+eX3PnhjX94plpDGHYDLoXdo5NjeQ7cnX3ok7yRAE6u6yT545xefPHIs1zxAnozKwKJUvMPdC5aBBqrYbVprTgYAAAAAAAAAAAAAAAAAAAAAgCaT7L7va3lnAAAAFlBct/H9eWcAAAAWUDz5ymTeGQAAgAUU8w4AOdh0bPbjj53tmSin5aye48tpcmJt4TcfbR/vW9bobHDlWzab3fHHszePzXScrusKiohzbcl4X/EXO695bWXa0GxAM9l8dPaOP5ztniil9W025TR5sbvw6x3tR69vznpd2P7hnXlngCX17uNvfOXB0x2vR5rV23MkWaw8k908NvNM3/KpTm0Hre6u35659emZtpn/45RiKda9nPU9P7t/6/IsSRoWDWge1/3rjS//8PTKM1mdXXucr9evl28Zmz383uJrHU1Yr5vwT4JLGxidiSRJ5uvad/XHPVsivbixSLIsS2JgdLrh+eDKVijFwOhMcok6undn3PD2uctpOXvnC6Wel0qNywY0k20HprMkmXe3+dxN8ZnNc+t1mkUW2cDB2UbHy4VRGVpO11TFhExnWwxsqPp4x8bY1R9fvy2+9XjsOxQVszSFcqyeLC9hUrgSdZ4up5XXwaa1saGj6ohd/fHVbbHvUOz5czzz8kWnr57KXuhpeEigCbxtsqJer2qPD6yv+vhj18fdW+Ibt8Wex+NnhyvrdZrF6snmvEegcae19a2J399bY33T2nj4U7HnI/HAE/H9A1HSr8M87tseX7ilxvo9W+Kzm+PnR+L+P1W276ZkgMW4cW3tev2+7tj36bj/Q/HAE/HwWNPXa6MyAABwFXDHndZ27JXY8WDVyr39sas/xifmjsoANXz7L/HTw1UrP7krutrnG5VxRQGLcWTi4nr9+a1x95Y4/NLcUZkmpnGn5UyuSstpXBjSfXU6Hnuu6uNrO+LRZ2u27KU0TnV5SEWre3VlWiokhdKbF8j4RIxPVB3x0MH47tNzW/bzTq0yLAPU5T9daTlNLoy5T527uF6/ozN+dbRmy15OklNdhaWKuaQ07rSc/Vvbtv9tOkui9hfVHzpY86zzxz91U1tDs8GVr1SIv/Yv33Zget5XPex+tOZyOU2O96QnupuzmgKX3f6tbQOjM9l8L4L7wWjNs7IkSSKe6vced2gKU53pvzcU158srTg7T+8+RzlNTnQX9n1ixT/f439diH9sLC6fzdZMlut/lfu59nTshmU/+uSK6TaPrYC6TK5Kj19bXH+ytOJMVuejunKavNhT+PGd1zz/ruZs3JPd39ybdwYAAGABxXVruvLOAAAALKB48rm/550BAAAAAAAAAAAAAAAAAAAAAAAAAAAAAAAAAAAAAAAAAAAAAAAAAAAAAAAAAAAAAAAAAAAAAAAAAAAAAAAAAAAAAAAAAAAAAAAAAAAAAAAAAAAAAAAAAAAAAAAAAAAAAAAAAAAAAAAAAAAAAAAAAAAAAAAAAAAAAAAAAAAAALhq/BfNEMXNVk1y9gAAAABJRU5ErkJggg==&amp;#39;&amp;gt;&amp;lt;/img&amp;gt;&amp;quot;},&amp;quot;nodeType&amp;quot;:&amp;quot;DOM&amp;quot;,&amp;quot;type&amp;quot;:&amp;quot;node&amp;quot;,&amp;quot;instanceArgs&amp;quot;:{&amp;quot;namespace&amp;quot;:&amp;quot;html&amp;quot;,&amp;quot;tag&amp;quot;:&amp;quot;div&amp;quot;},&amp;quot;children&amp;quot;:[]}]})&lt;/unsafe-script&gt;&quot;},&quot;nodeType&quot;:&quot;DOM&quot;,&quot;type&quot;:&quot;node&quot;,&quot;instanceArgs&quot;:{&quot;namespace&quot;:&quot;html&quot;,&quot;tag&quot;:&quot;div&quot;},&quot;children&quot;:[]}]}]})</unsafe-script>"
      ],
      "text/plain": [
       "Node{WebIO.DOM}(WebIO.DOM(:html, :div), Any[Node{DOM}(DOM(:html, :div), Any[Scope(\"knockout-component-3a4089d5-9c0b-4915-ad77-f71390a7746e\", Node{DOM}(DOM(:html, :div), Any[Node{DOM}(DOM(:html, :div), Any[Node{DOM}(DOM(:html, :label), Any[\"frame_index\"], Dict{Symbol,Any}(:className=>\"interact \",:style=>Dict{Any,Any}(:padding=>\"5px 10px 0px 10px\")), 1)], Dict{Symbol,Any}(:className=>\"interact-flex-row-left\"), 2), Node{DOM}(DOM(:html, :div), Any[Node{DOM}(DOM(:html, :input), Any[], Dict{Symbol,Any}(:max=>101,:min=>1,:attributes=>Dict{Any,Any}(:type=>\"range\",Symbol(\"data-bind\")=>\"value: indexString, valueUpdate: 'input', event: {change: function (){this.changes(this.changes()+1)}}\",\"orient\"=>\"horizontal\"),:step=>1,:className=>\"slider slider is-fullwidth\",:style=>Dict{Any,Any}()), 0)], Dict{Symbol,Any}(:className=>\"interact-flex-row-center\"), 1), Node{DOM}(DOM(:html, :div), Any[Node{DOM}(DOM(:html, :p), Any[], Dict{Symbol,Any}(:attributes=>Dict(\"data-bind\"=>\"text: formatted_val\")), 0)], Dict{Symbol,Any}(:className=>\"interact-flex-row-right\"), 1)], Dict{Symbol,Any}(:className=>\"interact-flex-row interact-widget\"), 7), Dict{String,Tuple{Observables.AbstractObservable,Union{Nothing, Bool}}}(\"changes\"=>(Observable{Int64} with 1 listeners. Value:\n",
       "0, nothing),\"indexString\"=>(Observable{String} with 1 listeners. Value:\n",
       "\"51\", nothing),\"index\"=>(Observable{Int64} with 2 listeners. Value:\n",
       "51, nothing)), Set(String[]), nothing, Any[\"knockout\"=>\"C:\\\\Users\\\\Maxime\\\\.julia\\\\packages\\\\Knockout\\\\JE2Yq\\\\src\\\\..\\\\assets\\\\knockout.js\", \"knockout_punches\"=>\"C:\\\\Users\\\\Maxime\\\\.julia\\\\packages\\\\Knockout\\\\JE2Yq\\\\src\\\\..\\\\assets\\\\knockout_punches.js\", \"C:\\\\Users\\\\Maxime\\\\.julia\\\\packages\\\\InteractBase\\\\jyXKw\\\\src\\\\..\\\\assets\\\\all.js\", \"C:\\\\Users\\\\Maxime\\\\.julia\\\\packages\\\\InteractBase\\\\jyXKw\\\\src\\\\..\\\\assets\\\\style.css\", \"C:\\\\Users\\\\Maxime\\\\.julia\\\\packages\\\\Interact\\\\Fs3lV\\\\src\\\\..\\\\assets\\\\bulma_confined.min.css\"], Dict{Any,Any}(\"_promises\"=>Dict{Any,Any}(\"importsLoaded\"=>Any[JSString(\"function (ko, koPunches) {\\n    ko.punches.enableAll();\\n    ko.bindingHandlers.numericValue = {\\n        init : function(element, valueAccessor, allBindings, data, context) {\\n            var stringified = ko.observable(ko.unwrap(valueAccessor()));\\n            stringified.subscribe(function(value) {\\n                var val = parseFloat(value);\\n                if (!isNaN(val)) {\\n                    valueAccessor()(val);\\n                }\\n            })\\n            valueAccessor().subscribe(function(value) {\\n                var str = JSON.stringify(value);\\n                if ((str == \\\"0\\\") && ([\\\"-0\\\", \\\"-0.\\\"].indexOf(stringified()) >= 0))\\n                     return;\\n                 if ([\\\"null\\\", \\\"\\\"].indexOf(str) >= 0)\\n                     return;\\n                stringified(str);\\n            })\\n            ko.applyBindingsToNode(element, { value: stringified, valueUpdate: allBindings.get('valueUpdate')}, context);\\n        }\\n    };\\n    var json_data = {\\\"formatted_vals\\\":[\\\"1\\\",\\\"2\\\",\\\"3\\\",\\\"4\\\",\\\"5\\\",\\\"6\\\",\\\"7\\\",\\\"8\\\",\\\"9\\\",\\\"10\\\",\\\"11\\\",\\\"12\\\",\\\"13\\\",\\\"14\\\",\\\"15\\\",\\\"16\\\",\\\"17\\\",\\\"18\\\",\\\"19\\\",\\\"20\\\",\\\"21\\\",\\\"22\\\",\\\"23\\\",\\\"24\\\",\\\"25\\\",\\\"26\\\",\\\"27\\\",\\\"28\\\",\\\"29\\\",\\\"30\\\",\\\"31\\\",\\\"32\\\",\\\"33\\\",\\\"34\\\",\\\"35\\\",\\\"36\\\",\\\"37\\\",\\\"38\\\",\\\"39\\\",\\\"40\\\",\\\"41\\\",\\\"42\\\",\\\"43\\\",\\\"44\\\",\\\"45\\\",\\\"46\\\",\\\"47\\\",\\\"48\\\",\\\"49\\\",\\\"50\\\",\\\"51\\\",\\\"52\\\",\\\"53\\\",\\\"54\\\",\\\"55\\\",\\\"56\\\",\\\"57\\\",\\\"58\\\",\\\"59\\\",\\\"60\\\",\\\"61\\\",\\\"62\\\",\\\"63\\\",\\\"64\\\",\\\"65\\\",\\\"66\\\",\\\"67\\\",\\\"68\\\",\\\"69\\\",\\\"70\\\",\\\"71\\\",\\\"72\\\",\\\"73\\\",\\\"74\\\",\\\"75\\\",\\\"76\\\",\\\"77\\\",\\\"78\\\",\\\"79\\\",\\\"80\\\",\\\"81\\\",\\\"82\\\",\\\"83\\\",\\\"84\\\",\\\"85\\\",\\\"86\\\",\\\"87\\\",\\\"88\\\",\\\"89\\\",\\\"90\\\",\\\"91\\\",\\\"92\\\",\\\"93\\\",\\\"94\\\",\\\"95\\\",\\\"96\\\",\\\"97\\\",\\\"98\\\",\\\"99\\\",\\\"100\\\",\\\"101\\\"],\\\"changes\\\":WebIO.getval({\\\"name\\\":\\\"changes\\\",\\\"scope\\\":\\\"knockout-component-3a4089d5-9c0b-4915-ad77-f71390a7746e\\\",\\\"id\\\":\\\"ob_02\\\",\\\"type\\\":\\\"observable\\\"}),\\\"indexString\\\":WebIO.getval({\\\"name\\\":\\\"indexString\\\",\\\"scope\\\":\\\"knockout-component-3a4089d5-9c0b-4915-ad77-f71390a7746e\\\",\\\"id\\\":\\\"ob_03\\\",\\\"type\\\":\\\"observable\\\"}),\\\"index\\\":WebIO.getval({\\\"name\\\":\\\"index\\\",\\\"scope\\\":\\\"knockout-component-3a4089d5-9c0b-4915-ad77-f71390a7746e\\\",\\\"id\\\":\\\"ob_01\\\",\\\"type\\\":\\\"observable\\\"})};\\n    var self = this;\\n    function AppViewModel() {\\n        for (var key in json_data) {\\n            var el = json_data[key];\\n            this[key] = Array.isArray(el) ? ko.observableArray(el) : ko.observable(el);\\n        }\\n        \\n        [this[\\\"formatted_val\\\"]=ko.computed(    function(){\\n        return this.formatted_vals()[parseInt(this.index())-1];\\n    }\\n,this)]\\n        [this[\\\"changes\\\"].subscribe((function (val){!(this.valueFromJulia[\\\"changes\\\"]) ? (WebIO.setval({\\\"name\\\":\\\"changes\\\",\\\"scope\\\":\\\"knockout-component-3a4089d5-9c0b-4915-ad77-f71390a7746e\\\",\\\"id\\\":\\\"ob_02\\\",\\\"type\\\":\\\"observable\\\"},val)) : undefined; return this.valueFromJulia[\\\"changes\\\"]=false}),self),this[\\\"indexString\\\"].subscribe((function (val){!(this.valueFromJulia[\\\"indexString\\\"]) ? (WebIO.setval({\\\"name\\\":\\\"indexString\\\",\\\"scope\\\":\\\"knockout-component-3a4089d5-9c0b-4915-ad77-f71390a7746e\\\",\\\"id\\\":\\\"ob_03\\\",\\\"type\\\":\\\"observable\\\"},val)) : undefined; return this.valueFromJulia[\\\"indexString\\\"]=false}),self),this[\\\"index\\\"].subscribe((function (val){!(this.valueFromJulia[\\\"index\\\"]) ? (WebIO.setval({\\\"name\\\":\\\"index\\\",\\\"scope\\\":\\\"knockout-component-3a4089d5-9c0b-4915-ad77-f71390a7746e\\\",\\\"id\\\":\\\"ob_01\\\",\\\"type\\\":\\\"observable\\\"},val)) : undefined; return this.valueFromJulia[\\\"index\\\"]=false}),self)]\\n                var obs = this.index;\\n    var obsString = this.indexString;\\n    obsString.subscribe(function(value) {\\n        var val = parseFloat(value);\\n        if (!isNaN(val)) {\\n            obs(val);\\n        }\\n    })\\n    obs.subscribe(function(value) {\\n        var str = JSON.stringify(value);\\n        if ((str == \\\"0\\\") && ([\\\"-0\\\", \\\"-0.\\\"].indexOf(obsString()) >= 0))\\n             return;\\n         if ([\\\"null\\\", \\\"\\\"].indexOf(str) >= 0)\\n             return;\\n        obsString(str);\\n    })\\n\\n    \\n\\n    }\\n    self.model = new AppViewModel();\\n    self.valueFromJulia = {};\\n    for (var key in json_data) {\\n        self.valueFromJulia[key] = false;\\n    }\\n    ko.applyBindings(self.model, self.dom);\\n}\\n\")]),\"changes\"=>Any[JSString(\"(function (val){return (val!=this.model[\\\"changes\\\"]()) ? (this.valueFromJulia[\\\"changes\\\"]=true, this.model[\\\"changes\\\"](val)) : undefined})\")],\"indexString\"=>Any[JSString(\"(function (val){return (val!=this.model[\\\"indexString\\\"]()) ? (this.valueFromJulia[\\\"indexString\\\"]=true, this.model[\\\"indexString\\\"](val)) : undefined})\")],\"index\"=>Any[JSString(\"(function (val){return (val!=this.model[\\\"index\\\"]()) ? (this.valueFromJulia[\\\"index\\\"]=true, this.model[\\\"index\\\"](val)) : undefined})\")]), ConnectionPool(Channel{Any}(sz_max:9223372036854775807,sz_curr:3), Set(AbstractConnection[]), Channel{AbstractConnection}(sz_max:32,sz_curr:0)))], Dict{Symbol,Any}(:className=>\"field interact-widget\"), 1), Observable{Any} with 0 listeners. Value:\n",
       "Node{DOM}(DOM(:html, :div), Any[CairoSurfaceBase{UInt32}(Ptr{Nothing} @0x0000000020c4d0b0, 1000.0, 100.0)], Dict{Symbol,Any}(:className=>\"interact-flex-row interact-widget\"), 1)], Dict{Symbol,Any}(), 2)"
      ]
     },
     "execution_count": 6,
     "metadata": {},
     "output_type": "execute_result"
    }
   ],
   "source": [
    "using Interact\n",
    "@manipulate for frame_index in 1 : nframes(rec)\n",
    "    render(rec[frame_index-nframes(rec)], roadway, [CarIDOverlay()], cam=cam, canvas_height=100)\n",
    "end"
   ]
  },
  {
   "cell_type": "code",
   "execution_count": null,
   "metadata": {},
   "outputs": [],
   "source": []
  }
 ],
 "metadata": {
  "anaconda-cloud": {},
  "kernelspec": {
   "display_name": "Julia 1.1.0",
   "language": "julia",
   "name": "julia-1.1"
  },
  "language_info": {
   "file_extension": ".jl",
   "mimetype": "application/julia",
   "name": "julia",
   "version": "1.1.0"
  },
  "widgets": {
   "state": {
    "6289e1b5-1d81-4a28-9336-7f36ef1e29f5": {
     "views": [
      {
       "cell_index": 10
      }
     ]
    }
   },
   "version": "1.2.0"
  }
 },
 "nbformat": 4,
 "nbformat_minor": 2
}
